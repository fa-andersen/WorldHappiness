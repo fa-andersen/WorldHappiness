{
 "cells": [
  {
   "cell_type": "markdown",
   "id": "c3f87a9c",
   "metadata": {},
   "source": [
    "# 6.1 WHR Quality Check & Cleaning\n",
    "### This script contains the following points:\n",
    "#### 01. Import libraries and data\n",
    "#### 02. Consistency Checks\n",
    "#### 03. Cleaning & Wrangling Data (rename columns, create columns,  missing or incomplete data)\n",
    "#### 04. Merge data: df_past and df_present\n",
    "#### 05. Export data file"
   ]
  },
  {
   "cell_type": "markdown",
   "id": "f82be954",
   "metadata": {},
   "source": [
    "# 01 Import Libraries  & Data"
   ]
  },
  {
   "cell_type": "code",
   "execution_count": 1,
   "id": "5171aa69",
   "metadata": {
    "ExecuteTime": {
     "end_time": "2024-04-26T01:58:43.062354Z",
     "start_time": "2024-04-26T01:58:40.772775Z"
    }
   },
   "outputs": [],
   "source": [
    "#import libraries\n",
    "import pandas as pd\n",
    "import numpy as np\n",
    "import os\n",
    "import matplotlib.pyplot as plt\n",
    "import matplotlib.ticker as ticker\n",
    "import seaborn as sns\n",
    "import scipy"
   ]
  },
  {
   "cell_type": "markdown",
   "id": "f6faacbb",
   "metadata": {},
   "source": [
    "# Create data path"
   ]
  },
  {
   "cell_type": "code",
   "execution_count": 2,
   "id": "bed69e50",
   "metadata": {
    "ExecuteTime": {
     "end_time": "2024-04-26T01:58:43.067216Z",
     "start_time": "2024-04-26T01:58:43.062354Z"
    }
   },
   "outputs": [],
   "source": [
    "#create data path\n",
    "path = r'C:\\Users\\fa_an\\OneDrive\\CareerFoundry\\Tasks\\Data Analytics Immersion\\Tasks 6.1-6.7'"
   ]
  },
  {
   "cell_type": "markdown",
   "id": "589ccf23",
   "metadata": {},
   "source": [
    "# Import files"
   ]
  },
  {
   "cell_type": "code",
   "execution_count": 3,
   "id": "f1253c0a",
   "metadata": {
    "ExecuteTime": {
     "end_time": "2024-04-26T01:58:43.122943Z",
     "start_time": "2024-04-26T01:58:43.069793Z"
    }
   },
   "outputs": [],
   "source": [
    "#WHR2024\n",
    "df_present = pd.read_csv(os.path.join(path, '02 Data', 'Original Data', 'WHR2024.csv'))"
   ]
  },
  {
   "cell_type": "code",
   "execution_count": 4,
   "id": "058e27f7",
   "metadata": {
    "ExecuteTime": {
     "end_time": "2024-04-26T01:58:43.142102Z",
     "start_time": "2024-04-26T01:58:43.124957Z"
    }
   },
   "outputs": [],
   "source": [
    "#WHR2015 to 2023\n",
    "df_past = pd.read_csv(os.path.join(path, '02 Data', 'Original Data', 'WHR2015_2023.csv'))"
   ]
  },
  {
   "cell_type": "markdown",
   "id": "5c9a9ff4",
   "metadata": {},
   "source": [
    "# Set no max for column display"
   ]
  },
  {
   "cell_type": "code",
   "execution_count": 5,
   "id": "fe89f3f6",
   "metadata": {
    "ExecuteTime": {
     "end_time": "2024-04-26T01:58:43.146873Z",
     "start_time": "2024-04-26T01:58:43.144331Z"
    }
   },
   "outputs": [],
   "source": [
    "pd.set_option('display.max_columns', None)"
   ]
  },
  {
   "cell_type": "markdown",
   "id": "5cd84ced",
   "metadata": {},
   "source": [
    "# 02 Consistency Checks on df_past and df_present"
   ]
  },
  {
   "cell_type": "markdown",
   "id": "53c1b4cf",
   "metadata": {},
   "source": [
    "## df_past checks"
   ]
  },
  {
   "cell_type": "code",
   "execution_count": 6,
   "id": "d8b7c503",
   "metadata": {
    "ExecuteTime": {
     "end_time": "2024-04-26T01:58:43.161890Z",
     "start_time": "2024-04-26T01:58:43.148292Z"
    }
   },
   "outputs": [
    {
     "name": "stdout",
     "output_type": "stream",
     "text": [
      "<class 'pandas.core.frame.DataFrame'>\n",
      "RangeIndex: 1362 entries, 0 to 1361\n",
      "Data columns (total 11 columns):\n",
      " #   Column           Non-Null Count  Dtype  \n",
      "---  ------           --------------  -----  \n",
      " 0   Country          1362 non-null   object \n",
      " 1   Year             1362 non-null   int64  \n",
      " 2   Region           1362 non-null   object \n",
      " 3   Happiness Rank   1362 non-null   int64  \n",
      " 4   Happiness Score  1362 non-null   float64\n",
      " 5   GDP              1362 non-null   float64\n",
      " 6   Social Support   1362 non-null   float64\n",
      " 7   Life Expectancy  1361 non-null   float64\n",
      " 8   Freedom          1362 non-null   float64\n",
      " 9   Generosity       1362 non-null   float64\n",
      " 10  Corruption       1362 non-null   float64\n",
      "dtypes: float64(7), int64(2), object(2)\n",
      "memory usage: 117.2+ KB\n"
     ]
    }
   ],
   "source": [
    "df_past.info()"
   ]
  },
  {
   "cell_type": "code",
   "execution_count": 7,
   "id": "ee0ba8de",
   "metadata": {
    "ExecuteTime": {
     "end_time": "2024-04-26T01:58:43.188460Z",
     "start_time": "2024-04-26T01:58:43.163895Z"
    }
   },
   "outputs": [
    {
     "data": {
      "text/html": [
       "<div>\n",
       "<style scoped>\n",
       "    .dataframe tbody tr th:only-of-type {\n",
       "        vertical-align: middle;\n",
       "    }\n",
       "\n",
       "    .dataframe tbody tr th {\n",
       "        vertical-align: top;\n",
       "    }\n",
       "\n",
       "    .dataframe thead th {\n",
       "        text-align: right;\n",
       "    }\n",
       "</style>\n",
       "<table border=\"1\" class=\"dataframe\">\n",
       "  <thead>\n",
       "    <tr style=\"text-align: right;\">\n",
       "      <th></th>\n",
       "      <th>Country</th>\n",
       "      <th>Year</th>\n",
       "      <th>Region</th>\n",
       "      <th>Happiness Rank</th>\n",
       "      <th>Happiness Score</th>\n",
       "      <th>GDP</th>\n",
       "      <th>Social Support</th>\n",
       "      <th>Life Expectancy</th>\n",
       "      <th>Freedom</th>\n",
       "      <th>Generosity</th>\n",
       "      <th>Corruption</th>\n",
       "    </tr>\n",
       "  </thead>\n",
       "  <tbody>\n",
       "    <tr>\n",
       "      <th>0</th>\n",
       "      <td>Afghanistan</td>\n",
       "      <td>2023</td>\n",
       "      <td>Southern Asia</td>\n",
       "      <td>137</td>\n",
       "      <td>1.859</td>\n",
       "      <td>0.645</td>\n",
       "      <td>0.000</td>\n",
       "      <td>0.087</td>\n",
       "      <td>0.000</td>\n",
       "      <td>0.093</td>\n",
       "      <td>0.059</td>\n",
       "    </tr>\n",
       "    <tr>\n",
       "      <th>1</th>\n",
       "      <td>Afghanistan</td>\n",
       "      <td>2017</td>\n",
       "      <td>Southern Asia</td>\n",
       "      <td>141</td>\n",
       "      <td>3.794</td>\n",
       "      <td>0.401</td>\n",
       "      <td>0.582</td>\n",
       "      <td>0.181</td>\n",
       "      <td>0.106</td>\n",
       "      <td>0.312</td>\n",
       "      <td>0.061</td>\n",
       "    </tr>\n",
       "    <tr>\n",
       "      <th>2</th>\n",
       "      <td>Afghanistan</td>\n",
       "      <td>2018</td>\n",
       "      <td>Southern Asia</td>\n",
       "      <td>145</td>\n",
       "      <td>3.632</td>\n",
       "      <td>0.332</td>\n",
       "      <td>0.537</td>\n",
       "      <td>0.255</td>\n",
       "      <td>0.085</td>\n",
       "      <td>0.191</td>\n",
       "      <td>0.036</td>\n",
       "    </tr>\n",
       "    <tr>\n",
       "      <th>3</th>\n",
       "      <td>Afghanistan</td>\n",
       "      <td>2022</td>\n",
       "      <td>Southern Asia</td>\n",
       "      <td>146</td>\n",
       "      <td>2.404</td>\n",
       "      <td>0.758</td>\n",
       "      <td>0.000</td>\n",
       "      <td>0.289</td>\n",
       "      <td>0.000</td>\n",
       "      <td>0.089</td>\n",
       "      <td>0.005</td>\n",
       "    </tr>\n",
       "    <tr>\n",
       "      <th>4</th>\n",
       "      <td>Afghanistan</td>\n",
       "      <td>2021</td>\n",
       "      <td>Southern Asia</td>\n",
       "      <td>149</td>\n",
       "      <td>2.523</td>\n",
       "      <td>0.370</td>\n",
       "      <td>0.000</td>\n",
       "      <td>0.126</td>\n",
       "      <td>0.000</td>\n",
       "      <td>0.122</td>\n",
       "      <td>0.010</td>\n",
       "    </tr>\n",
       "  </tbody>\n",
       "</table>\n",
       "</div>"
      ],
      "text/plain": [
       "       Country  Year         Region  Happiness Rank  Happiness Score    GDP  \\\n",
       "0  Afghanistan  2023  Southern Asia             137            1.859  0.645   \n",
       "1  Afghanistan  2017  Southern Asia             141            3.794  0.401   \n",
       "2  Afghanistan  2018  Southern Asia             145            3.632  0.332   \n",
       "3  Afghanistan  2022  Southern Asia             146            2.404  0.758   \n",
       "4  Afghanistan  2021  Southern Asia             149            2.523  0.370   \n",
       "\n",
       "   Social Support  Life Expectancy  Freedom  Generosity  Corruption  \n",
       "0           0.000            0.087    0.000       0.093       0.059  \n",
       "1           0.582            0.181    0.106       0.312       0.061  \n",
       "2           0.537            0.255    0.085       0.191       0.036  \n",
       "3           0.000            0.289    0.000       0.089       0.005  \n",
       "4           0.000            0.126    0.000       0.122       0.010  "
      ]
     },
     "execution_count": 7,
     "metadata": {},
     "output_type": "execute_result"
    }
   ],
   "source": [
    "df_past.head()"
   ]
  },
  {
   "cell_type": "code",
   "execution_count": 8,
   "id": "6f44b96d",
   "metadata": {
    "ExecuteTime": {
     "end_time": "2024-04-26T01:58:43.212674Z",
     "start_time": "2024-04-26T01:58:43.190468Z"
    }
   },
   "outputs": [
    {
     "data": {
      "text/html": [
       "<div>\n",
       "<style scoped>\n",
       "    .dataframe tbody tr th:only-of-type {\n",
       "        vertical-align: middle;\n",
       "    }\n",
       "\n",
       "    .dataframe tbody tr th {\n",
       "        vertical-align: top;\n",
       "    }\n",
       "\n",
       "    .dataframe thead th {\n",
       "        text-align: right;\n",
       "    }\n",
       "</style>\n",
       "<table border=\"1\" class=\"dataframe\">\n",
       "  <thead>\n",
       "    <tr style=\"text-align: right;\">\n",
       "      <th></th>\n",
       "      <th>Country</th>\n",
       "      <th>Year</th>\n",
       "      <th>Region</th>\n",
       "      <th>Happiness Rank</th>\n",
       "      <th>Happiness Score</th>\n",
       "      <th>GDP</th>\n",
       "      <th>Social Support</th>\n",
       "      <th>Life Expectancy</th>\n",
       "      <th>Freedom</th>\n",
       "      <th>Generosity</th>\n",
       "      <th>Corruption</th>\n",
       "    </tr>\n",
       "  </thead>\n",
       "  <tbody>\n",
       "    <tr>\n",
       "      <th>1357</th>\n",
       "      <td>Zimbabwe</td>\n",
       "      <td>2018</td>\n",
       "      <td>Sub-Saharan Africa</td>\n",
       "      <td>144</td>\n",
       "      <td>3.692</td>\n",
       "      <td>0.357</td>\n",
       "      <td>1.094</td>\n",
       "      <td>0.248</td>\n",
       "      <td>0.406</td>\n",
       "      <td>0.132</td>\n",
       "      <td>0.099</td>\n",
       "    </tr>\n",
       "    <tr>\n",
       "      <th>1358</th>\n",
       "      <td>Zimbabwe</td>\n",
       "      <td>2022</td>\n",
       "      <td>Sub-Saharan Africa</td>\n",
       "      <td>144</td>\n",
       "      <td>2.995</td>\n",
       "      <td>0.947</td>\n",
       "      <td>0.690</td>\n",
       "      <td>0.270</td>\n",
       "      <td>0.329</td>\n",
       "      <td>0.106</td>\n",
       "      <td>0.105</td>\n",
       "    </tr>\n",
       "    <tr>\n",
       "      <th>1359</th>\n",
       "      <td>Zimbabwe</td>\n",
       "      <td>2019</td>\n",
       "      <td>Sub-Saharan Africa</td>\n",
       "      <td>146</td>\n",
       "      <td>3.663</td>\n",
       "      <td>0.366</td>\n",
       "      <td>1.114</td>\n",
       "      <td>0.433</td>\n",
       "      <td>0.361</td>\n",
       "      <td>0.151</td>\n",
       "      <td>0.089</td>\n",
       "    </tr>\n",
       "    <tr>\n",
       "      <th>1360</th>\n",
       "      <td>Zimbabwe</td>\n",
       "      <td>2021</td>\n",
       "      <td>Sub-Saharan Africa</td>\n",
       "      <td>148</td>\n",
       "      <td>3.145</td>\n",
       "      <td>0.457</td>\n",
       "      <td>0.649</td>\n",
       "      <td>0.243</td>\n",
       "      <td>0.359</td>\n",
       "      <td>0.157</td>\n",
       "      <td>0.075</td>\n",
       "    </tr>\n",
       "    <tr>\n",
       "      <th>1361</th>\n",
       "      <td>Zimbabwe</td>\n",
       "      <td>2020</td>\n",
       "      <td>Sub-Saharan Africa</td>\n",
       "      <td>151</td>\n",
       "      <td>3.299</td>\n",
       "      <td>0.426</td>\n",
       "      <td>1.048</td>\n",
       "      <td>0.375</td>\n",
       "      <td>0.377</td>\n",
       "      <td>0.151</td>\n",
       "      <td>0.081</td>\n",
       "    </tr>\n",
       "  </tbody>\n",
       "</table>\n",
       "</div>"
      ],
      "text/plain": [
       "       Country  Year              Region  Happiness Rank  Happiness Score  \\\n",
       "1357  Zimbabwe  2018  Sub-Saharan Africa             144            3.692   \n",
       "1358  Zimbabwe  2022  Sub-Saharan Africa             144            2.995   \n",
       "1359  Zimbabwe  2019  Sub-Saharan Africa             146            3.663   \n",
       "1360  Zimbabwe  2021  Sub-Saharan Africa             148            3.145   \n",
       "1361  Zimbabwe  2020  Sub-Saharan Africa             151            3.299   \n",
       "\n",
       "        GDP  Social Support  Life Expectancy  Freedom  Generosity  Corruption  \n",
       "1357  0.357           1.094            0.248    0.406       0.132       0.099  \n",
       "1358  0.947           0.690            0.270    0.329       0.106       0.105  \n",
       "1359  0.366           1.114            0.433    0.361       0.151       0.089  \n",
       "1360  0.457           0.649            0.243    0.359       0.157       0.075  \n",
       "1361  0.426           1.048            0.375    0.377       0.151       0.081  "
      ]
     },
     "execution_count": 8,
     "metadata": {},
     "output_type": "execute_result"
    }
   ],
   "source": [
    "df_past.tail()"
   ]
  },
  {
   "cell_type": "code",
   "execution_count": 9,
   "id": "76532442",
   "metadata": {
    "ExecuteTime": {
     "end_time": "2024-04-26T01:58:43.220817Z",
     "start_time": "2024-04-26T01:58:43.214701Z"
    }
   },
   "outputs": [
    {
     "data": {
      "text/plain": [
       "(1362, 11)"
      ]
     },
     "execution_count": 9,
     "metadata": {},
     "output_type": "execute_result"
    }
   ],
   "source": [
    "df_past.shape"
   ]
  },
  {
   "cell_type": "code",
   "execution_count": 10,
   "id": "a6421899",
   "metadata": {
    "ExecuteTime": {
     "end_time": "2024-04-26T01:58:43.262310Z",
     "start_time": "2024-04-26T01:58:43.224064Z"
    }
   },
   "outputs": [
    {
     "data": {
      "text/html": [
       "<div>\n",
       "<style scoped>\n",
       "    .dataframe tbody tr th:only-of-type {\n",
       "        vertical-align: middle;\n",
       "    }\n",
       "\n",
       "    .dataframe tbody tr th {\n",
       "        vertical-align: top;\n",
       "    }\n",
       "\n",
       "    .dataframe thead th {\n",
       "        text-align: right;\n",
       "    }\n",
       "</style>\n",
       "<table border=\"1\" class=\"dataframe\">\n",
       "  <thead>\n",
       "    <tr style=\"text-align: right;\">\n",
       "      <th></th>\n",
       "      <th>Year</th>\n",
       "      <th>Happiness Rank</th>\n",
       "      <th>Happiness Score</th>\n",
       "      <th>GDP</th>\n",
       "      <th>Social Support</th>\n",
       "      <th>Life Expectancy</th>\n",
       "      <th>Freedom</th>\n",
       "      <th>Generosity</th>\n",
       "      <th>Corruption</th>\n",
       "    </tr>\n",
       "  </thead>\n",
       "  <tbody>\n",
       "    <tr>\n",
       "      <th>count</th>\n",
       "      <td>1362.000000</td>\n",
       "      <td>1362.000000</td>\n",
       "      <td>1362.000000</td>\n",
       "      <td>1362.000000</td>\n",
       "      <td>1362.000000</td>\n",
       "      <td>1361.000000</td>\n",
       "      <td>1362.000000</td>\n",
       "      <td>1362.000000</td>\n",
       "      <td>1362.000000</td>\n",
       "    </tr>\n",
       "    <tr>\n",
       "      <th>mean</th>\n",
       "      <td>2018.903084</td>\n",
       "      <td>76.596182</td>\n",
       "      <td>5.440554</td>\n",
       "      <td>1.018017</td>\n",
       "      <td>1.045228</td>\n",
       "      <td>0.583435</td>\n",
       "      <td>0.451150</td>\n",
       "      <td>0.196381</td>\n",
       "      <td>0.132210</td>\n",
       "    </tr>\n",
       "    <tr>\n",
       "      <th>std</th>\n",
       "      <td>2.563980</td>\n",
       "      <td>44.108242</td>\n",
       "      <td>1.118747</td>\n",
       "      <td>0.452866</td>\n",
       "      <td>0.331536</td>\n",
       "      <td>0.244886</td>\n",
       "      <td>0.156494</td>\n",
       "      <td>0.113493</td>\n",
       "      <td>0.112682</td>\n",
       "    </tr>\n",
       "    <tr>\n",
       "      <th>min</th>\n",
       "      <td>2015.000000</td>\n",
       "      <td>1.000000</td>\n",
       "      <td>1.859000</td>\n",
       "      <td>0.000000</td>\n",
       "      <td>0.000000</td>\n",
       "      <td>0.000000</td>\n",
       "      <td>0.000000</td>\n",
       "      <td>0.000000</td>\n",
       "      <td>0.000000</td>\n",
       "    </tr>\n",
       "    <tr>\n",
       "      <th>25%</th>\n",
       "      <td>2017.000000</td>\n",
       "      <td>38.250000</td>\n",
       "      <td>4.597750</td>\n",
       "      <td>0.696250</td>\n",
       "      <td>0.832000</td>\n",
       "      <td>0.402000</td>\n",
       "      <td>0.356000</td>\n",
       "      <td>0.115000</td>\n",
       "      <td>0.057000</td>\n",
       "    </tr>\n",
       "    <tr>\n",
       "      <th>50%</th>\n",
       "      <td>2019.000000</td>\n",
       "      <td>76.500000</td>\n",
       "      <td>5.431000</td>\n",
       "      <td>1.040000</td>\n",
       "      <td>1.083000</td>\n",
       "      <td>0.612000</td>\n",
       "      <td>0.468000</td>\n",
       "      <td>0.183000</td>\n",
       "      <td>0.097000</td>\n",
       "    </tr>\n",
       "    <tr>\n",
       "      <th>75%</th>\n",
       "      <td>2021.000000</td>\n",
       "      <td>114.000000</td>\n",
       "      <td>6.257250</td>\n",
       "      <td>1.338000</td>\n",
       "      <td>1.301000</td>\n",
       "      <td>0.777000</td>\n",
       "      <td>0.569750</td>\n",
       "      <td>0.253000</td>\n",
       "      <td>0.166000</td>\n",
       "    </tr>\n",
       "    <tr>\n",
       "      <th>max</th>\n",
       "      <td>2023.000000</td>\n",
       "      <td>158.000000</td>\n",
       "      <td>7.842000</td>\n",
       "      <td>2.209000</td>\n",
       "      <td>1.644000</td>\n",
       "      <td>1.141000</td>\n",
       "      <td>0.772000</td>\n",
       "      <td>0.838000</td>\n",
       "      <td>0.587000</td>\n",
       "    </tr>\n",
       "  </tbody>\n",
       "</table>\n",
       "</div>"
      ],
      "text/plain": [
       "              Year  Happiness Rank  Happiness Score          GDP  \\\n",
       "count  1362.000000     1362.000000      1362.000000  1362.000000   \n",
       "mean   2018.903084       76.596182         5.440554     1.018017   \n",
       "std       2.563980       44.108242         1.118747     0.452866   \n",
       "min    2015.000000        1.000000         1.859000     0.000000   \n",
       "25%    2017.000000       38.250000         4.597750     0.696250   \n",
       "50%    2019.000000       76.500000         5.431000     1.040000   \n",
       "75%    2021.000000      114.000000         6.257250     1.338000   \n",
       "max    2023.000000      158.000000         7.842000     2.209000   \n",
       "\n",
       "       Social Support  Life Expectancy      Freedom   Generosity   Corruption  \n",
       "count     1362.000000      1361.000000  1362.000000  1362.000000  1362.000000  \n",
       "mean         1.045228         0.583435     0.451150     0.196381     0.132210  \n",
       "std          0.331536         0.244886     0.156494     0.113493     0.112682  \n",
       "min          0.000000         0.000000     0.000000     0.000000     0.000000  \n",
       "25%          0.832000         0.402000     0.356000     0.115000     0.057000  \n",
       "50%          1.083000         0.612000     0.468000     0.183000     0.097000  \n",
       "75%          1.301000         0.777000     0.569750     0.253000     0.166000  \n",
       "max          1.644000         1.141000     0.772000     0.838000     0.587000  "
      ]
     },
     "execution_count": 10,
     "metadata": {},
     "output_type": "execute_result"
    }
   ],
   "source": [
    "df_past.describe()"
   ]
  },
  {
   "cell_type": "markdown",
   "id": "7e7cae2d",
   "metadata": {},
   "source": [
    "## df_present checks"
   ]
  },
  {
   "cell_type": "code",
   "execution_count": 11,
   "id": "9daded3d",
   "metadata": {
    "ExecuteTime": {
     "end_time": "2024-04-26T01:58:43.275854Z",
     "start_time": "2024-04-26T01:58:43.264717Z"
    }
   },
   "outputs": [
    {
     "name": "stdout",
     "output_type": "stream",
     "text": [
      "<class 'pandas.core.frame.DataFrame'>\n",
      "RangeIndex: 143 entries, 0 to 142\n",
      "Data columns (total 11 columns):\n",
      " #   Column                                      Non-Null Count  Dtype  \n",
      "---  ------                                      --------------  -----  \n",
      " 0   Country name                                143 non-null    object \n",
      " 1   Ladder score                                143 non-null    float64\n",
      " 2   upperwhisker                                143 non-null    float64\n",
      " 3   lowerwhisker                                143 non-null    float64\n",
      " 4   Explained by: Log GDP per capita            140 non-null    float64\n",
      " 5   Explained by: Social support                140 non-null    float64\n",
      " 6   Explained by: Healthy life expectancy       140 non-null    float64\n",
      " 7   Explained by: Freedom to make life choices  140 non-null    float64\n",
      " 8   Explained by: Generosity                    140 non-null    float64\n",
      " 9   Explained by: Perceptions of corruption     140 non-null    float64\n",
      " 10  Dystopia + residual                         140 non-null    float64\n",
      "dtypes: float64(10), object(1)\n",
      "memory usage: 12.4+ KB\n"
     ]
    }
   ],
   "source": [
    "df_present.info()"
   ]
  },
  {
   "cell_type": "code",
   "execution_count": 12,
   "id": "aa7b5735",
   "metadata": {
    "ExecuteTime": {
     "end_time": "2024-04-26T01:58:43.298685Z",
     "start_time": "2024-04-26T01:58:43.280615Z"
    }
   },
   "outputs": [
    {
     "data": {
      "text/html": [
       "<div>\n",
       "<style scoped>\n",
       "    .dataframe tbody tr th:only-of-type {\n",
       "        vertical-align: middle;\n",
       "    }\n",
       "\n",
       "    .dataframe tbody tr th {\n",
       "        vertical-align: top;\n",
       "    }\n",
       "\n",
       "    .dataframe thead th {\n",
       "        text-align: right;\n",
       "    }\n",
       "</style>\n",
       "<table border=\"1\" class=\"dataframe\">\n",
       "  <thead>\n",
       "    <tr style=\"text-align: right;\">\n",
       "      <th></th>\n",
       "      <th>Country name</th>\n",
       "      <th>Ladder score</th>\n",
       "      <th>upperwhisker</th>\n",
       "      <th>lowerwhisker</th>\n",
       "      <th>Explained by: Log GDP per capita</th>\n",
       "      <th>Explained by: Social support</th>\n",
       "      <th>Explained by: Healthy life expectancy</th>\n",
       "      <th>Explained by: Freedom to make life choices</th>\n",
       "      <th>Explained by: Generosity</th>\n",
       "      <th>Explained by: Perceptions of corruption</th>\n",
       "      <th>Dystopia + residual</th>\n",
       "    </tr>\n",
       "  </thead>\n",
       "  <tbody>\n",
       "    <tr>\n",
       "      <th>0</th>\n",
       "      <td>Finland</td>\n",
       "      <td>7.741</td>\n",
       "      <td>7.815</td>\n",
       "      <td>7.667</td>\n",
       "      <td>1.844</td>\n",
       "      <td>1.572</td>\n",
       "      <td>0.695</td>\n",
       "      <td>0.859</td>\n",
       "      <td>0.142</td>\n",
       "      <td>0.546</td>\n",
       "      <td>2.082</td>\n",
       "    </tr>\n",
       "    <tr>\n",
       "      <th>1</th>\n",
       "      <td>Denmark</td>\n",
       "      <td>7.583</td>\n",
       "      <td>7.665</td>\n",
       "      <td>7.500</td>\n",
       "      <td>1.908</td>\n",
       "      <td>1.520</td>\n",
       "      <td>0.699</td>\n",
       "      <td>0.823</td>\n",
       "      <td>0.204</td>\n",
       "      <td>0.548</td>\n",
       "      <td>1.881</td>\n",
       "    </tr>\n",
       "    <tr>\n",
       "      <th>2</th>\n",
       "      <td>Iceland</td>\n",
       "      <td>7.525</td>\n",
       "      <td>7.618</td>\n",
       "      <td>7.433</td>\n",
       "      <td>1.881</td>\n",
       "      <td>1.617</td>\n",
       "      <td>0.718</td>\n",
       "      <td>0.819</td>\n",
       "      <td>0.258</td>\n",
       "      <td>0.182</td>\n",
       "      <td>2.050</td>\n",
       "    </tr>\n",
       "    <tr>\n",
       "      <th>3</th>\n",
       "      <td>Sweden</td>\n",
       "      <td>7.344</td>\n",
       "      <td>7.422</td>\n",
       "      <td>7.267</td>\n",
       "      <td>1.878</td>\n",
       "      <td>1.501</td>\n",
       "      <td>0.724</td>\n",
       "      <td>0.838</td>\n",
       "      <td>0.221</td>\n",
       "      <td>0.524</td>\n",
       "      <td>1.658</td>\n",
       "    </tr>\n",
       "    <tr>\n",
       "      <th>4</th>\n",
       "      <td>Israel</td>\n",
       "      <td>7.341</td>\n",
       "      <td>7.405</td>\n",
       "      <td>7.277</td>\n",
       "      <td>1.803</td>\n",
       "      <td>1.513</td>\n",
       "      <td>0.740</td>\n",
       "      <td>0.641</td>\n",
       "      <td>0.153</td>\n",
       "      <td>0.193</td>\n",
       "      <td>2.298</td>\n",
       "    </tr>\n",
       "  </tbody>\n",
       "</table>\n",
       "</div>"
      ],
      "text/plain": [
       "  Country name  Ladder score  upperwhisker  lowerwhisker  \\\n",
       "0      Finland         7.741         7.815         7.667   \n",
       "1      Denmark         7.583         7.665         7.500   \n",
       "2      Iceland         7.525         7.618         7.433   \n",
       "3       Sweden         7.344         7.422         7.267   \n",
       "4       Israel         7.341         7.405         7.277   \n",
       "\n",
       "   Explained by: Log GDP per capita  Explained by: Social support  \\\n",
       "0                             1.844                         1.572   \n",
       "1                             1.908                         1.520   \n",
       "2                             1.881                         1.617   \n",
       "3                             1.878                         1.501   \n",
       "4                             1.803                         1.513   \n",
       "\n",
       "   Explained by: Healthy life expectancy  \\\n",
       "0                                  0.695   \n",
       "1                                  0.699   \n",
       "2                                  0.718   \n",
       "3                                  0.724   \n",
       "4                                  0.740   \n",
       "\n",
       "   Explained by: Freedom to make life choices  Explained by: Generosity  \\\n",
       "0                                       0.859                     0.142   \n",
       "1                                       0.823                     0.204   \n",
       "2                                       0.819                     0.258   \n",
       "3                                       0.838                     0.221   \n",
       "4                                       0.641                     0.153   \n",
       "\n",
       "   Explained by: Perceptions of corruption  Dystopia + residual  \n",
       "0                                    0.546                2.082  \n",
       "1                                    0.548                1.881  \n",
       "2                                    0.182                2.050  \n",
       "3                                    0.524                1.658  \n",
       "4                                    0.193                2.298  "
      ]
     },
     "execution_count": 12,
     "metadata": {},
     "output_type": "execute_result"
    }
   ],
   "source": [
    "df_present.head()"
   ]
  },
  {
   "cell_type": "code",
   "execution_count": 13,
   "id": "577cde07",
   "metadata": {
    "ExecuteTime": {
     "end_time": "2024-04-26T01:58:43.313966Z",
     "start_time": "2024-04-26T01:58:43.298685Z"
    }
   },
   "outputs": [
    {
     "data": {
      "text/html": [
       "<div>\n",
       "<style scoped>\n",
       "    .dataframe tbody tr th:only-of-type {\n",
       "        vertical-align: middle;\n",
       "    }\n",
       "\n",
       "    .dataframe tbody tr th {\n",
       "        vertical-align: top;\n",
       "    }\n",
       "\n",
       "    .dataframe thead th {\n",
       "        text-align: right;\n",
       "    }\n",
       "</style>\n",
       "<table border=\"1\" class=\"dataframe\">\n",
       "  <thead>\n",
       "    <tr style=\"text-align: right;\">\n",
       "      <th></th>\n",
       "      <th>Country name</th>\n",
       "      <th>Ladder score</th>\n",
       "      <th>upperwhisker</th>\n",
       "      <th>lowerwhisker</th>\n",
       "      <th>Explained by: Log GDP per capita</th>\n",
       "      <th>Explained by: Social support</th>\n",
       "      <th>Explained by: Healthy life expectancy</th>\n",
       "      <th>Explained by: Freedom to make life choices</th>\n",
       "      <th>Explained by: Generosity</th>\n",
       "      <th>Explained by: Perceptions of corruption</th>\n",
       "      <th>Dystopia + residual</th>\n",
       "    </tr>\n",
       "  </thead>\n",
       "  <tbody>\n",
       "    <tr>\n",
       "      <th>138</th>\n",
       "      <td>Congo (Kinshasa)</td>\n",
       "      <td>3.295</td>\n",
       "      <td>3.462</td>\n",
       "      <td>3.128</td>\n",
       "      <td>0.534</td>\n",
       "      <td>0.665</td>\n",
       "      <td>0.262</td>\n",
       "      <td>0.473</td>\n",
       "      <td>0.189</td>\n",
       "      <td>0.072</td>\n",
       "      <td>1.102</td>\n",
       "    </tr>\n",
       "    <tr>\n",
       "      <th>139</th>\n",
       "      <td>Sierra Leone</td>\n",
       "      <td>3.245</td>\n",
       "      <td>3.366</td>\n",
       "      <td>3.124</td>\n",
       "      <td>0.654</td>\n",
       "      <td>0.566</td>\n",
       "      <td>0.253</td>\n",
       "      <td>0.469</td>\n",
       "      <td>0.181</td>\n",
       "      <td>0.053</td>\n",
       "      <td>1.068</td>\n",
       "    </tr>\n",
       "    <tr>\n",
       "      <th>140</th>\n",
       "      <td>Lesotho</td>\n",
       "      <td>3.186</td>\n",
       "      <td>3.469</td>\n",
       "      <td>2.904</td>\n",
       "      <td>0.771</td>\n",
       "      <td>0.851</td>\n",
       "      <td>0.000</td>\n",
       "      <td>0.523</td>\n",
       "      <td>0.082</td>\n",
       "      <td>0.085</td>\n",
       "      <td>0.875</td>\n",
       "    </tr>\n",
       "    <tr>\n",
       "      <th>141</th>\n",
       "      <td>Lebanon</td>\n",
       "      <td>2.707</td>\n",
       "      <td>2.797</td>\n",
       "      <td>2.616</td>\n",
       "      <td>1.377</td>\n",
       "      <td>0.577</td>\n",
       "      <td>0.556</td>\n",
       "      <td>0.173</td>\n",
       "      <td>0.068</td>\n",
       "      <td>0.029</td>\n",
       "      <td>-0.073</td>\n",
       "    </tr>\n",
       "    <tr>\n",
       "      <th>142</th>\n",
       "      <td>Afghanistan</td>\n",
       "      <td>1.721</td>\n",
       "      <td>1.775</td>\n",
       "      <td>1.667</td>\n",
       "      <td>0.628</td>\n",
       "      <td>0.000</td>\n",
       "      <td>0.242</td>\n",
       "      <td>0.000</td>\n",
       "      <td>0.091</td>\n",
       "      <td>0.088</td>\n",
       "      <td>0.672</td>\n",
       "    </tr>\n",
       "  </tbody>\n",
       "</table>\n",
       "</div>"
      ],
      "text/plain": [
       "         Country name  Ladder score  upperwhisker  lowerwhisker  \\\n",
       "138  Congo (Kinshasa)         3.295         3.462         3.128   \n",
       "139      Sierra Leone         3.245         3.366         3.124   \n",
       "140           Lesotho         3.186         3.469         2.904   \n",
       "141           Lebanon         2.707         2.797         2.616   \n",
       "142       Afghanistan         1.721         1.775         1.667   \n",
       "\n",
       "     Explained by: Log GDP per capita  Explained by: Social support  \\\n",
       "138                             0.534                         0.665   \n",
       "139                             0.654                         0.566   \n",
       "140                             0.771                         0.851   \n",
       "141                             1.377                         0.577   \n",
       "142                             0.628                         0.000   \n",
       "\n",
       "     Explained by: Healthy life expectancy  \\\n",
       "138                                  0.262   \n",
       "139                                  0.253   \n",
       "140                                  0.000   \n",
       "141                                  0.556   \n",
       "142                                  0.242   \n",
       "\n",
       "     Explained by: Freedom to make life choices  Explained by: Generosity  \\\n",
       "138                                       0.473                     0.189   \n",
       "139                                       0.469                     0.181   \n",
       "140                                       0.523                     0.082   \n",
       "141                                       0.173                     0.068   \n",
       "142                                       0.000                     0.091   \n",
       "\n",
       "     Explained by: Perceptions of corruption  Dystopia + residual  \n",
       "138                                    0.072                1.102  \n",
       "139                                    0.053                1.068  \n",
       "140                                    0.085                0.875  \n",
       "141                                    0.029               -0.073  \n",
       "142                                    0.088                0.672  "
      ]
     },
     "execution_count": 13,
     "metadata": {},
     "output_type": "execute_result"
    }
   ],
   "source": [
    "df_present.tail()"
   ]
  },
  {
   "cell_type": "code",
   "execution_count": 14,
   "id": "f371e7fb",
   "metadata": {
    "ExecuteTime": {
     "end_time": "2024-04-26T01:58:43.323366Z",
     "start_time": "2024-04-26T01:58:43.316973Z"
    }
   },
   "outputs": [
    {
     "data": {
      "text/plain": [
       "(143, 11)"
      ]
     },
     "execution_count": 14,
     "metadata": {},
     "output_type": "execute_result"
    }
   ],
   "source": [
    "df_present.shape"
   ]
  },
  {
   "cell_type": "code",
   "execution_count": 15,
   "id": "5ba8c7e5",
   "metadata": {
    "ExecuteTime": {
     "end_time": "2024-04-26T01:58:43.359937Z",
     "start_time": "2024-04-26T01:58:43.324762Z"
    }
   },
   "outputs": [
    {
     "data": {
      "text/html": [
       "<div>\n",
       "<style scoped>\n",
       "    .dataframe tbody tr th:only-of-type {\n",
       "        vertical-align: middle;\n",
       "    }\n",
       "\n",
       "    .dataframe tbody tr th {\n",
       "        vertical-align: top;\n",
       "    }\n",
       "\n",
       "    .dataframe thead th {\n",
       "        text-align: right;\n",
       "    }\n",
       "</style>\n",
       "<table border=\"1\" class=\"dataframe\">\n",
       "  <thead>\n",
       "    <tr style=\"text-align: right;\">\n",
       "      <th></th>\n",
       "      <th>Ladder score</th>\n",
       "      <th>upperwhisker</th>\n",
       "      <th>lowerwhisker</th>\n",
       "      <th>Explained by: Log GDP per capita</th>\n",
       "      <th>Explained by: Social support</th>\n",
       "      <th>Explained by: Healthy life expectancy</th>\n",
       "      <th>Explained by: Freedom to make life choices</th>\n",
       "      <th>Explained by: Generosity</th>\n",
       "      <th>Explained by: Perceptions of corruption</th>\n",
       "      <th>Dystopia + residual</th>\n",
       "    </tr>\n",
       "  </thead>\n",
       "  <tbody>\n",
       "    <tr>\n",
       "      <th>count</th>\n",
       "      <td>143.000000</td>\n",
       "      <td>143.000000</td>\n",
       "      <td>143.000000</td>\n",
       "      <td>140.000000</td>\n",
       "      <td>140.000000</td>\n",
       "      <td>140.000000</td>\n",
       "      <td>140.000000</td>\n",
       "      <td>140.000000</td>\n",
       "      <td>140.000000</td>\n",
       "      <td>140.000000</td>\n",
       "    </tr>\n",
       "    <tr>\n",
       "      <th>mean</th>\n",
       "      <td>5.527580</td>\n",
       "      <td>5.641175</td>\n",
       "      <td>5.413972</td>\n",
       "      <td>1.378807</td>\n",
       "      <td>1.134329</td>\n",
       "      <td>0.520886</td>\n",
       "      <td>0.620621</td>\n",
       "      <td>0.146271</td>\n",
       "      <td>0.154121</td>\n",
       "      <td>1.575914</td>\n",
       "    </tr>\n",
       "    <tr>\n",
       "      <th>std</th>\n",
       "      <td>1.170717</td>\n",
       "      <td>1.155008</td>\n",
       "      <td>1.187133</td>\n",
       "      <td>0.425098</td>\n",
       "      <td>0.333317</td>\n",
       "      <td>0.164923</td>\n",
       "      <td>0.162492</td>\n",
       "      <td>0.073441</td>\n",
       "      <td>0.126238</td>\n",
       "      <td>0.537459</td>\n",
       "    </tr>\n",
       "    <tr>\n",
       "      <th>min</th>\n",
       "      <td>1.721000</td>\n",
       "      <td>1.775000</td>\n",
       "      <td>1.667000</td>\n",
       "      <td>0.000000</td>\n",
       "      <td>0.000000</td>\n",
       "      <td>0.000000</td>\n",
       "      <td>0.000000</td>\n",
       "      <td>0.000000</td>\n",
       "      <td>0.000000</td>\n",
       "      <td>-0.073000</td>\n",
       "    </tr>\n",
       "    <tr>\n",
       "      <th>25%</th>\n",
       "      <td>4.726000</td>\n",
       "      <td>4.845500</td>\n",
       "      <td>4.606000</td>\n",
       "      <td>1.077750</td>\n",
       "      <td>0.921750</td>\n",
       "      <td>0.398000</td>\n",
       "      <td>0.527500</td>\n",
       "      <td>0.091000</td>\n",
       "      <td>0.068750</td>\n",
       "      <td>1.308250</td>\n",
       "    </tr>\n",
       "    <tr>\n",
       "      <th>50%</th>\n",
       "      <td>5.785000</td>\n",
       "      <td>5.895000</td>\n",
       "      <td>5.674000</td>\n",
       "      <td>1.431500</td>\n",
       "      <td>1.237500</td>\n",
       "      <td>0.549500</td>\n",
       "      <td>0.641000</td>\n",
       "      <td>0.136500</td>\n",
       "      <td>0.120500</td>\n",
       "      <td>1.644500</td>\n",
       "    </tr>\n",
       "    <tr>\n",
       "      <th>75%</th>\n",
       "      <td>6.416000</td>\n",
       "      <td>6.507500</td>\n",
       "      <td>6.319000</td>\n",
       "      <td>1.741500</td>\n",
       "      <td>1.383250</td>\n",
       "      <td>0.648500</td>\n",
       "      <td>0.736000</td>\n",
       "      <td>0.192500</td>\n",
       "      <td>0.193750</td>\n",
       "      <td>1.881750</td>\n",
       "    </tr>\n",
       "    <tr>\n",
       "      <th>max</th>\n",
       "      <td>7.741000</td>\n",
       "      <td>7.815000</td>\n",
       "      <td>7.667000</td>\n",
       "      <td>2.141000</td>\n",
       "      <td>1.617000</td>\n",
       "      <td>0.857000</td>\n",
       "      <td>0.863000</td>\n",
       "      <td>0.401000</td>\n",
       "      <td>0.575000</td>\n",
       "      <td>2.998000</td>\n",
       "    </tr>\n",
       "  </tbody>\n",
       "</table>\n",
       "</div>"
      ],
      "text/plain": [
       "       Ladder score  upperwhisker  lowerwhisker  \\\n",
       "count    143.000000    143.000000    143.000000   \n",
       "mean       5.527580      5.641175      5.413972   \n",
       "std        1.170717      1.155008      1.187133   \n",
       "min        1.721000      1.775000      1.667000   \n",
       "25%        4.726000      4.845500      4.606000   \n",
       "50%        5.785000      5.895000      5.674000   \n",
       "75%        6.416000      6.507500      6.319000   \n",
       "max        7.741000      7.815000      7.667000   \n",
       "\n",
       "       Explained by: Log GDP per capita  Explained by: Social support  \\\n",
       "count                        140.000000                    140.000000   \n",
       "mean                           1.378807                      1.134329   \n",
       "std                            0.425098                      0.333317   \n",
       "min                            0.000000                      0.000000   \n",
       "25%                            1.077750                      0.921750   \n",
       "50%                            1.431500                      1.237500   \n",
       "75%                            1.741500                      1.383250   \n",
       "max                            2.141000                      1.617000   \n",
       "\n",
       "       Explained by: Healthy life expectancy  \\\n",
       "count                             140.000000   \n",
       "mean                                0.520886   \n",
       "std                                 0.164923   \n",
       "min                                 0.000000   \n",
       "25%                                 0.398000   \n",
       "50%                                 0.549500   \n",
       "75%                                 0.648500   \n",
       "max                                 0.857000   \n",
       "\n",
       "       Explained by: Freedom to make life choices  Explained by: Generosity  \\\n",
       "count                                  140.000000                140.000000   \n",
       "mean                                     0.620621                  0.146271   \n",
       "std                                      0.162492                  0.073441   \n",
       "min                                      0.000000                  0.000000   \n",
       "25%                                      0.527500                  0.091000   \n",
       "50%                                      0.641000                  0.136500   \n",
       "75%                                      0.736000                  0.192500   \n",
       "max                                      0.863000                  0.401000   \n",
       "\n",
       "       Explained by: Perceptions of corruption  Dystopia + residual  \n",
       "count                               140.000000           140.000000  \n",
       "mean                                  0.154121             1.575914  \n",
       "std                                   0.126238             0.537459  \n",
       "min                                   0.000000            -0.073000  \n",
       "25%                                   0.068750             1.308250  \n",
       "50%                                   0.120500             1.644500  \n",
       "75%                                   0.193750             1.881750  \n",
       "max                                   0.575000             2.998000  "
      ]
     },
     "execution_count": 15,
     "metadata": {},
     "output_type": "execute_result"
    }
   ],
   "source": [
    "df_present.describe()"
   ]
  },
  {
   "cell_type": "markdown",
   "id": "41b8177f",
   "metadata": {},
   "source": [
    "# 03 Cleaning & Wrangling Data"
   ]
  },
  {
   "cell_type": "markdown",
   "id": "eb5a5095",
   "metadata": {},
   "source": [
    "## Check for mixed data type in df_past"
   ]
  },
  {
   "cell_type": "code",
   "execution_count": 16,
   "id": "18012e18",
   "metadata": {
    "ExecuteTime": {
     "end_time": "2024-04-26T01:58:43.393162Z",
     "start_time": "2024-04-26T01:58:43.361948Z"
    }
   },
   "outputs": [
    {
     "name": "stdout",
     "output_type": "stream",
     "text": [
      "Everything is a-ok!\n"
     ]
    }
   ],
   "source": [
    "#check for mixed data type in df_past\n",
    "for col in df_past.columns.tolist():\n",
    "  weird = (df_past[[col]].map(type) != df_past[[col]].iloc[0].apply(type)).any(axis = 1)\n",
    "  if len (df_past[weird]) > 0:\n",
    "    print (col)\n",
    "else:\n",
    "    print('Everything is a-ok!')"
   ]
  },
  {
   "cell_type": "markdown",
   "id": "44602867",
   "metadata": {},
   "source": [
    "## Check for missing values in df_past"
   ]
  },
  {
   "cell_type": "code",
   "execution_count": 17,
   "id": "dada1974",
   "metadata": {
    "ExecuteTime": {
     "end_time": "2024-04-26T01:58:43.404528Z",
     "start_time": "2024-04-26T01:58:43.395171Z"
    }
   },
   "outputs": [
    {
     "data": {
      "text/plain": [
       "Country            0\n",
       "Year               0\n",
       "Region             0\n",
       "Happiness Rank     0\n",
       "Happiness Score    0\n",
       "GDP                0\n",
       "Social Support     0\n",
       "Life Expectancy    1\n",
       "Freedom            0\n",
       "Generosity         0\n",
       "Corruption         0\n",
       "dtype: int64"
      ]
     },
     "execution_count": 17,
     "metadata": {},
     "output_type": "execute_result"
    }
   ],
   "source": [
    "#check for missing values in df_past\n",
    "df_past.isnull().sum()"
   ]
  },
  {
   "cell_type": "markdown",
   "id": "4be1629f",
   "metadata": {},
   "source": [
    "## Replace missing data in Life Expectancy column"
   ]
  },
  {
   "cell_type": "code",
   "execution_count": 18,
   "id": "7f2804d6",
   "metadata": {
    "ExecuteTime": {
     "end_time": "2024-04-26T01:58:43.409278Z",
     "start_time": "2024-04-26T01:58:43.405711Z"
    }
   },
   "outputs": [],
   "source": [
    "# replace missing data in \"Life Expectancy' column to 0\n",
    "df_past['Life Expectancy'].fillna(0, inplace=True)"
   ]
  },
  {
   "cell_type": "code",
   "execution_count": 19,
   "id": "1cf0c72b",
   "metadata": {
    "ExecuteTime": {
     "end_time": "2024-04-26T01:58:43.415923Z",
     "start_time": "2024-04-26T01:58:43.410872Z"
    }
   },
   "outputs": [
    {
     "data": {
      "text/plain": [
       "Country            0\n",
       "Year               0\n",
       "Region             0\n",
       "Happiness Rank     0\n",
       "Happiness Score    0\n",
       "GDP                0\n",
       "Social Support     0\n",
       "Life Expectancy    0\n",
       "Freedom            0\n",
       "Generosity         0\n",
       "Corruption         0\n",
       "dtype: int64"
      ]
     },
     "execution_count": 19,
     "metadata": {},
     "output_type": "execute_result"
    }
   ],
   "source": [
    "#repeat check for missing values in df_past\n",
    "df_past.isnull().sum()"
   ]
  },
  {
   "cell_type": "markdown",
   "id": "dbbeaf3d",
   "metadata": {},
   "source": [
    "## Check for duplicates in df_past"
   ]
  },
  {
   "cell_type": "code",
   "execution_count": 20,
   "id": "a18492ea",
   "metadata": {
    "ExecuteTime": {
     "end_time": "2024-04-26T01:58:43.425306Z",
     "start_time": "2024-04-26T01:58:43.417587Z"
    }
   },
   "outputs": [],
   "source": [
    "#check for duplicates in df_past\n",
    "df_dups_past = df_past[df_past.duplicated()]"
   ]
  },
  {
   "cell_type": "code",
   "execution_count": 21,
   "id": "f43542d4",
   "metadata": {
    "ExecuteTime": {
     "end_time": "2024-04-26T01:58:43.434894Z",
     "start_time": "2024-04-26T01:58:43.426321Z"
    }
   },
   "outputs": [
    {
     "data": {
      "text/html": [
       "<div>\n",
       "<style scoped>\n",
       "    .dataframe tbody tr th:only-of-type {\n",
       "        vertical-align: middle;\n",
       "    }\n",
       "\n",
       "    .dataframe tbody tr th {\n",
       "        vertical-align: top;\n",
       "    }\n",
       "\n",
       "    .dataframe thead th {\n",
       "        text-align: right;\n",
       "    }\n",
       "</style>\n",
       "<table border=\"1\" class=\"dataframe\">\n",
       "  <thead>\n",
       "    <tr style=\"text-align: right;\">\n",
       "      <th></th>\n",
       "      <th>Country</th>\n",
       "      <th>Year</th>\n",
       "      <th>Region</th>\n",
       "      <th>Happiness Rank</th>\n",
       "      <th>Happiness Score</th>\n",
       "      <th>GDP</th>\n",
       "      <th>Social Support</th>\n",
       "      <th>Life Expectancy</th>\n",
       "      <th>Freedom</th>\n",
       "      <th>Generosity</th>\n",
       "      <th>Corruption</th>\n",
       "    </tr>\n",
       "  </thead>\n",
       "  <tbody>\n",
       "  </tbody>\n",
       "</table>\n",
       "</div>"
      ],
      "text/plain": [
       "Empty DataFrame\n",
       "Columns: [Country, Year, Region, Happiness Rank, Happiness Score, GDP, Social Support, Life Expectancy, Freedom, Generosity, Corruption]\n",
       "Index: []"
      ]
     },
     "execution_count": 21,
     "metadata": {},
     "output_type": "execute_result"
    }
   ],
   "source": [
    "df_dups_past"
   ]
  },
  {
   "cell_type": "markdown",
   "id": "dd384c74",
   "metadata": {},
   "source": [
    "## Check for mixed data type in df_present"
   ]
  },
  {
   "cell_type": "code",
   "execution_count": 22,
   "id": "04774614",
   "metadata": {
    "ExecuteTime": {
     "end_time": "2024-04-26T01:58:43.439164Z",
     "start_time": "2024-04-26T01:58:43.435975Z"
    }
   },
   "outputs": [],
   "source": [
    "#no duplicates or mixed type data. Missing values are also ok now!"
   ]
  },
  {
   "cell_type": "code",
   "execution_count": 23,
   "id": "206dbadc",
   "metadata": {
    "ExecuteTime": {
     "end_time": "2024-04-26T01:58:43.468195Z",
     "start_time": "2024-04-26T01:58:43.441169Z"
    }
   },
   "outputs": [
    {
     "name": "stdout",
     "output_type": "stream",
     "text": [
      "Everything is a-ok!\n"
     ]
    }
   ],
   "source": [
    "#check for mixed data type in df_present\n",
    "for col in df_present.columns.tolist():\n",
    "  weird = (df_present[[col]].map(type) != df_present[[col]].iloc[0].apply(type)).any(axis = 1)\n",
    "  if len (df_present[weird]) > 0:\n",
    "    print (col)\n",
    "else:\n",
    "    print('Everything is a-ok!')"
   ]
  },
  {
   "cell_type": "markdown",
   "id": "47a8e243",
   "metadata": {},
   "source": [
    "## Check for missing values in df_present"
   ]
  },
  {
   "cell_type": "code",
   "execution_count": 24,
   "id": "855bc28c",
   "metadata": {
    "ExecuteTime": {
     "end_time": "2024-04-26T01:58:43.474893Z",
     "start_time": "2024-04-26T01:58:43.469253Z"
    }
   },
   "outputs": [
    {
     "data": {
      "text/plain": [
       "Country name                                  0\n",
       "Ladder score                                  0\n",
       "upperwhisker                                  0\n",
       "lowerwhisker                                  0\n",
       "Explained by: Log GDP per capita              3\n",
       "Explained by: Social support                  3\n",
       "Explained by: Healthy life expectancy         3\n",
       "Explained by: Freedom to make life choices    3\n",
       "Explained by: Generosity                      3\n",
       "Explained by: Perceptions of corruption       3\n",
       "Dystopia + residual                           3\n",
       "dtype: int64"
      ]
     },
     "execution_count": 24,
     "metadata": {},
     "output_type": "execute_result"
    }
   ],
   "source": [
    "#check for missing values in df_present\n",
    "df_present.isnull().sum()"
   ]
  },
  {
   "cell_type": "markdown",
   "id": "d1961187",
   "metadata": {},
   "source": [
    "## Replace all missing values with 0"
   ]
  },
  {
   "cell_type": "code",
   "execution_count": 25,
   "id": "0ed7d5c1",
   "metadata": {
    "ExecuteTime": {
     "end_time": "2024-04-26T01:58:43.479646Z",
     "start_time": "2024-04-26T01:58:43.476476Z"
    }
   },
   "outputs": [],
   "source": [
    "#replace all missing values with 0\n",
    "df_present.fillna(0, inplace=True)"
   ]
  },
  {
   "cell_type": "code",
   "execution_count": 26,
   "id": "f95a8aa7",
   "metadata": {
    "ExecuteTime": {
     "end_time": "2024-04-26T01:58:43.490942Z",
     "start_time": "2024-04-26T01:58:43.481438Z"
    }
   },
   "outputs": [
    {
     "data": {
      "text/plain": [
       "Country name                                  0\n",
       "Ladder score                                  0\n",
       "upperwhisker                                  0\n",
       "lowerwhisker                                  0\n",
       "Explained by: Log GDP per capita              0\n",
       "Explained by: Social support                  0\n",
       "Explained by: Healthy life expectancy         0\n",
       "Explained by: Freedom to make life choices    0\n",
       "Explained by: Generosity                      0\n",
       "Explained by: Perceptions of corruption       0\n",
       "Dystopia + residual                           0\n",
       "dtype: int64"
      ]
     },
     "execution_count": 26,
     "metadata": {},
     "output_type": "execute_result"
    }
   ],
   "source": [
    "# repeat check for missing values in df_present\n",
    "df_present.isnull().sum()\n"
   ]
  },
  {
   "cell_type": "markdown",
   "id": "160b3a82",
   "metadata": {},
   "source": [
    "## Check for duplicates in df_present"
   ]
  },
  {
   "cell_type": "code",
   "execution_count": 27,
   "id": "97b15610",
   "metadata": {
    "ExecuteTime": {
     "end_time": "2024-04-26T01:58:43.501765Z",
     "start_time": "2024-04-26T01:58:43.493735Z"
    }
   },
   "outputs": [],
   "source": [
    "#check for duplicates in df_present\n",
    "df_dups_present = df_present[df_present.duplicated()]"
   ]
  },
  {
   "cell_type": "code",
   "execution_count": 28,
   "id": "7f1e1579",
   "metadata": {
    "ExecuteTime": {
     "end_time": "2024-04-26T01:58:43.516777Z",
     "start_time": "2024-04-26T01:58:43.510406Z"
    }
   },
   "outputs": [
    {
     "data": {
      "text/html": [
       "<div>\n",
       "<style scoped>\n",
       "    .dataframe tbody tr th:only-of-type {\n",
       "        vertical-align: middle;\n",
       "    }\n",
       "\n",
       "    .dataframe tbody tr th {\n",
       "        vertical-align: top;\n",
       "    }\n",
       "\n",
       "    .dataframe thead th {\n",
       "        text-align: right;\n",
       "    }\n",
       "</style>\n",
       "<table border=\"1\" class=\"dataframe\">\n",
       "  <thead>\n",
       "    <tr style=\"text-align: right;\">\n",
       "      <th></th>\n",
       "      <th>Country name</th>\n",
       "      <th>Ladder score</th>\n",
       "      <th>upperwhisker</th>\n",
       "      <th>lowerwhisker</th>\n",
       "      <th>Explained by: Log GDP per capita</th>\n",
       "      <th>Explained by: Social support</th>\n",
       "      <th>Explained by: Healthy life expectancy</th>\n",
       "      <th>Explained by: Freedom to make life choices</th>\n",
       "      <th>Explained by: Generosity</th>\n",
       "      <th>Explained by: Perceptions of corruption</th>\n",
       "      <th>Dystopia + residual</th>\n",
       "    </tr>\n",
       "  </thead>\n",
       "  <tbody>\n",
       "  </tbody>\n",
       "</table>\n",
       "</div>"
      ],
      "text/plain": [
       "Empty DataFrame\n",
       "Columns: [Country name, Ladder score, upperwhisker, lowerwhisker, Explained by: Log GDP per capita, Explained by: Social support, Explained by: Healthy life expectancy, Explained by: Freedom to make life choices, Explained by: Generosity, Explained by: Perceptions of corruption, Dystopia + residual]\n",
       "Index: []"
      ]
     },
     "execution_count": 28,
     "metadata": {},
     "output_type": "execute_result"
    }
   ],
   "source": [
    "df_dups_present"
   ]
  },
  {
   "cell_type": "code",
   "execution_count": 29,
   "id": "be323b99",
   "metadata": {
    "ExecuteTime": {
     "end_time": "2024-04-26T01:58:43.523814Z",
     "start_time": "2024-04-26T01:58:43.518908Z"
    }
   },
   "outputs": [],
   "source": [
    "#no duplicates or mixed type data. Missing values are also ok now!\n",
    "#Need to rename and create columns in df_present to match df_past."
   ]
  },
  {
   "cell_type": "markdown",
   "id": "18d61f21",
   "metadata": {},
   "source": [
    "# Data Wrangling"
   ]
  },
  {
   "cell_type": "markdown",
   "id": "d48d9eec",
   "metadata": {},
   "source": [
    "## Create a Year column"
   ]
  },
  {
   "cell_type": "code",
   "execution_count": 30,
   "id": "06b5dc94",
   "metadata": {
    "ExecuteTime": {
     "end_time": "2024-04-26T01:58:43.532320Z",
     "start_time": "2024-04-26T01:58:43.526907Z"
    }
   },
   "outputs": [],
   "source": [
    "# Create a 'Year' column and all will have 2024\n",
    "df_present['Year'] = 2024"
   ]
  },
  {
   "cell_type": "markdown",
   "id": "551b40b0",
   "metadata": {},
   "source": [
    "## Create a Happiness Rank column"
   ]
  },
  {
   "cell_type": "code",
   "execution_count": 31,
   "id": "d72dcd08",
   "metadata": {
    "ExecuteTime": {
     "end_time": "2024-04-26T01:58:43.543415Z",
     "start_time": "2024-04-26T01:58:43.535583Z"
    }
   },
   "outputs": [],
   "source": [
    "# Create a 'Happiness Rank' column\n",
    "\n",
    "# Sort the DataFrame by 'Ladder score' column in ascending order\n",
    "df_present.sort_values(by='Ladder score', ascending=False, inplace=True)\n",
    "\n",
    "# Assign the 'Happiness Rank' based on the sorted order of 'Ladder score'\n",
    "df_present['Happiness Rank'] = range(1, len(df_present) + 1)"
   ]
  },
  {
   "cell_type": "markdown",
   "id": "c225a0e6",
   "metadata": {},
   "source": [
    "## Create a Region column"
   ]
  },
  {
   "cell_type": "code",
   "execution_count": 32,
   "id": "fa6aed6a",
   "metadata": {
    "ExecuteTime": {
     "end_time": "2024-04-26T01:58:43.554634Z",
     "start_time": "2024-04-26T01:58:43.545443Z"
    }
   },
   "outputs": [],
   "source": [
    "# Create a 'Region' column with no data yet\n",
    "df_present['Region'] = None"
   ]
  },
  {
   "cell_type": "markdown",
   "id": "01dbb927",
   "metadata": {},
   "source": [
    "## Check for missing values in df_present after adding columns"
   ]
  },
  {
   "cell_type": "code",
   "execution_count": 33,
   "id": "00cffcb5",
   "metadata": {
    "ExecuteTime": {
     "end_time": "2024-04-26T01:58:43.570728Z",
     "start_time": "2024-04-26T01:58:43.558454Z"
    }
   },
   "outputs": [
    {
     "data": {
      "text/plain": [
       "Country name                                    0\n",
       "Ladder score                                    0\n",
       "upperwhisker                                    0\n",
       "lowerwhisker                                    0\n",
       "Explained by: Log GDP per capita                0\n",
       "Explained by: Social support                    0\n",
       "Explained by: Healthy life expectancy           0\n",
       "Explained by: Freedom to make life choices      0\n",
       "Explained by: Generosity                        0\n",
       "Explained by: Perceptions of corruption         0\n",
       "Dystopia + residual                             0\n",
       "Year                                            0\n",
       "Happiness Rank                                  0\n",
       "Region                                        143\n",
       "dtype: int64"
      ]
     },
     "execution_count": 33,
     "metadata": {},
     "output_type": "execute_result"
    }
   ],
   "source": [
    "#check for missing values in df_present\n",
    "df_present.isnull().sum()"
   ]
  },
  {
   "cell_type": "markdown",
   "id": "185dbfc8",
   "metadata": {},
   "source": [
    "## Rename column Country name"
   ]
  },
  {
   "cell_type": "code",
   "execution_count": 34,
   "id": "4cbad769",
   "metadata": {
    "ExecuteTime": {
     "end_time": "2024-04-26T01:58:43.586501Z",
     "start_time": "2024-04-26T01:58:43.577432Z"
    }
   },
   "outputs": [],
   "source": [
    "# Rename the 'Country name' column to 'Country'\n",
    "df_present.rename(columns={'Country name': 'Country'}, inplace=True)"
   ]
  },
  {
   "cell_type": "markdown",
   "id": "2a0d005c",
   "metadata": {},
   "source": [
    "## Rename column Ladder Score"
   ]
  },
  {
   "cell_type": "code",
   "execution_count": 35,
   "id": "202237d0",
   "metadata": {
    "ExecuteTime": {
     "end_time": "2024-04-26T01:58:43.597271Z",
     "start_time": "2024-04-26T01:58:43.589600Z"
    }
   },
   "outputs": [],
   "source": [
    "# Rename the 'Ladder score' column to 'Happiness Score'\n",
    "df_present.rename(columns={'Ladder score': 'Happiness Score'}, inplace=True)"
   ]
  },
  {
   "cell_type": "markdown",
   "id": "9f3c42a3",
   "metadata": {},
   "source": [
    "## Rename column Explained by: Log GDP per capita"
   ]
  },
  {
   "cell_type": "code",
   "execution_count": 36,
   "id": "211b210d",
   "metadata": {
    "ExecuteTime": {
     "end_time": "2024-04-26T01:58:43.606997Z",
     "start_time": "2024-04-26T01:58:43.601327Z"
    }
   },
   "outputs": [],
   "source": [
    "# Rename the 'Explained by: Log GDP per capita' column to 'GDP'\n",
    "df_present.rename(columns={'Explained by: Log GDP per capita': 'GDP'}, inplace=True)"
   ]
  },
  {
   "cell_type": "markdown",
   "id": "356226a1",
   "metadata": {},
   "source": [
    "## Rename column Explained by: Social support"
   ]
  },
  {
   "cell_type": "code",
   "execution_count": 37,
   "id": "66b7d9a6",
   "metadata": {
    "ExecuteTime": {
     "end_time": "2024-04-26T01:58:43.615143Z",
     "start_time": "2024-04-26T01:58:43.609829Z"
    }
   },
   "outputs": [],
   "source": [
    "# Rename the 'Explained by: Social support' column to 'Social Support'\n",
    "df_present.rename(columns={'Explained by: Social support': 'Social Support'}, inplace=True)"
   ]
  },
  {
   "cell_type": "markdown",
   "id": "22952b87",
   "metadata": {},
   "source": [
    "## Rename column Explained by: Healthy life expectancy"
   ]
  },
  {
   "cell_type": "code",
   "execution_count": 38,
   "id": "f9c53f89",
   "metadata": {
    "ExecuteTime": {
     "end_time": "2024-04-26T01:58:43.624185Z",
     "start_time": "2024-04-26T01:58:43.617161Z"
    }
   },
   "outputs": [],
   "source": [
    "# Rename the 'Explained by: Healthy life expectancy' column to 'Life Expectancy'\n",
    "df_present.rename(columns={'Explained by: Healthy life expectancy': 'Life Expectancy'}, inplace=True)"
   ]
  },
  {
   "cell_type": "markdown",
   "id": "e9b70dd0",
   "metadata": {},
   "source": [
    "## Rename column Explained by: Freedom to make life choices"
   ]
  },
  {
   "cell_type": "code",
   "execution_count": 39,
   "id": "518a5e1d",
   "metadata": {
    "ExecuteTime": {
     "end_time": "2024-04-26T01:58:43.634197Z",
     "start_time": "2024-04-26T01:58:43.627171Z"
    }
   },
   "outputs": [],
   "source": [
    "# Rename the 'Explained by: Freedom to make life choices' column to 'Freedom'\n",
    "df_present.rename(columns={'Explained by: Freedom to make life choices': 'Freedom'}, inplace=True)"
   ]
  },
  {
   "cell_type": "markdown",
   "id": "00b5e8cd",
   "metadata": {},
   "source": [
    "## Rename column Explained by: Generosity"
   ]
  },
  {
   "cell_type": "code",
   "execution_count": 40,
   "id": "20a8dfde",
   "metadata": {
    "ExecuteTime": {
     "end_time": "2024-04-26T01:58:43.642724Z",
     "start_time": "2024-04-26T01:58:43.638673Z"
    }
   },
   "outputs": [],
   "source": [
    "# Rename the 'Explained by: Generosity' column to 'Generosity'\n",
    "df_present.rename(columns={'Explained by: Generosity': 'Generosity'}, inplace=True)"
   ]
  },
  {
   "cell_type": "markdown",
   "id": "217bad09",
   "metadata": {},
   "source": [
    "## Rename column Explained by: Perceptions of corruption"
   ]
  },
  {
   "cell_type": "code",
   "execution_count": 41,
   "id": "957d09dc",
   "metadata": {
    "ExecuteTime": {
     "end_time": "2024-04-26T01:58:43.649541Z",
     "start_time": "2024-04-26T01:58:43.643740Z"
    }
   },
   "outputs": [],
   "source": [
    "# Rename the 'Explained by: Perceptions of corruption' column to 'Corruption'\n",
    "df_present.rename(columns={'Explained by: Perceptions of corruption': 'Corruption'}, inplace=True)"
   ]
  },
  {
   "cell_type": "markdown",
   "id": "a8584a33",
   "metadata": {},
   "source": [
    "## Drop columns upperwhisker, lowerwhisker, Dystopia + residual"
   ]
  },
  {
   "cell_type": "code",
   "execution_count": 42,
   "id": "d1b46dff",
   "metadata": {
    "ExecuteTime": {
     "end_time": "2024-04-26T01:58:43.656318Z",
     "start_time": "2024-04-26T01:58:43.651637Z"
    }
   },
   "outputs": [],
   "source": [
    "# Drop the specified columns: upperwhisker, lowerwhisker, Dystopia + residual\n",
    "columns_to_drop = ['upperwhisker', 'lowerwhisker', 'Dystopia + residual']\n",
    "df_present.drop(columns=columns_to_drop, inplace=True)"
   ]
  },
  {
   "cell_type": "markdown",
   "id": "a0229c19",
   "metadata": {},
   "source": [
    "## Check updates with header for df_past and df_present"
   ]
  },
  {
   "cell_type": "code",
   "execution_count": 43,
   "id": "41c2a247",
   "metadata": {
    "ExecuteTime": {
     "end_time": "2024-04-26T01:58:43.669697Z",
     "start_time": "2024-04-26T01:58:43.657410Z"
    }
   },
   "outputs": [
    {
     "data": {
      "text/html": [
       "<div>\n",
       "<style scoped>\n",
       "    .dataframe tbody tr th:only-of-type {\n",
       "        vertical-align: middle;\n",
       "    }\n",
       "\n",
       "    .dataframe tbody tr th {\n",
       "        vertical-align: top;\n",
       "    }\n",
       "\n",
       "    .dataframe thead th {\n",
       "        text-align: right;\n",
       "    }\n",
       "</style>\n",
       "<table border=\"1\" class=\"dataframe\">\n",
       "  <thead>\n",
       "    <tr style=\"text-align: right;\">\n",
       "      <th></th>\n",
       "      <th>Country</th>\n",
       "      <th>Year</th>\n",
       "      <th>Region</th>\n",
       "      <th>Happiness Rank</th>\n",
       "      <th>Happiness Score</th>\n",
       "      <th>GDP</th>\n",
       "      <th>Social Support</th>\n",
       "      <th>Life Expectancy</th>\n",
       "      <th>Freedom</th>\n",
       "      <th>Generosity</th>\n",
       "      <th>Corruption</th>\n",
       "    </tr>\n",
       "  </thead>\n",
       "  <tbody>\n",
       "    <tr>\n",
       "      <th>0</th>\n",
       "      <td>Afghanistan</td>\n",
       "      <td>2023</td>\n",
       "      <td>Southern Asia</td>\n",
       "      <td>137</td>\n",
       "      <td>1.859</td>\n",
       "      <td>0.645</td>\n",
       "      <td>0.000</td>\n",
       "      <td>0.087</td>\n",
       "      <td>0.000</td>\n",
       "      <td>0.093</td>\n",
       "      <td>0.059</td>\n",
       "    </tr>\n",
       "    <tr>\n",
       "      <th>1</th>\n",
       "      <td>Afghanistan</td>\n",
       "      <td>2017</td>\n",
       "      <td>Southern Asia</td>\n",
       "      <td>141</td>\n",
       "      <td>3.794</td>\n",
       "      <td>0.401</td>\n",
       "      <td>0.582</td>\n",
       "      <td>0.181</td>\n",
       "      <td>0.106</td>\n",
       "      <td>0.312</td>\n",
       "      <td>0.061</td>\n",
       "    </tr>\n",
       "    <tr>\n",
       "      <th>2</th>\n",
       "      <td>Afghanistan</td>\n",
       "      <td>2018</td>\n",
       "      <td>Southern Asia</td>\n",
       "      <td>145</td>\n",
       "      <td>3.632</td>\n",
       "      <td>0.332</td>\n",
       "      <td>0.537</td>\n",
       "      <td>0.255</td>\n",
       "      <td>0.085</td>\n",
       "      <td>0.191</td>\n",
       "      <td>0.036</td>\n",
       "    </tr>\n",
       "    <tr>\n",
       "      <th>3</th>\n",
       "      <td>Afghanistan</td>\n",
       "      <td>2022</td>\n",
       "      <td>Southern Asia</td>\n",
       "      <td>146</td>\n",
       "      <td>2.404</td>\n",
       "      <td>0.758</td>\n",
       "      <td>0.000</td>\n",
       "      <td>0.289</td>\n",
       "      <td>0.000</td>\n",
       "      <td>0.089</td>\n",
       "      <td>0.005</td>\n",
       "    </tr>\n",
       "    <tr>\n",
       "      <th>4</th>\n",
       "      <td>Afghanistan</td>\n",
       "      <td>2021</td>\n",
       "      <td>Southern Asia</td>\n",
       "      <td>149</td>\n",
       "      <td>2.523</td>\n",
       "      <td>0.370</td>\n",
       "      <td>0.000</td>\n",
       "      <td>0.126</td>\n",
       "      <td>0.000</td>\n",
       "      <td>0.122</td>\n",
       "      <td>0.010</td>\n",
       "    </tr>\n",
       "  </tbody>\n",
       "</table>\n",
       "</div>"
      ],
      "text/plain": [
       "       Country  Year         Region  Happiness Rank  Happiness Score    GDP  \\\n",
       "0  Afghanistan  2023  Southern Asia             137            1.859  0.645   \n",
       "1  Afghanistan  2017  Southern Asia             141            3.794  0.401   \n",
       "2  Afghanistan  2018  Southern Asia             145            3.632  0.332   \n",
       "3  Afghanistan  2022  Southern Asia             146            2.404  0.758   \n",
       "4  Afghanistan  2021  Southern Asia             149            2.523  0.370   \n",
       "\n",
       "   Social Support  Life Expectancy  Freedom  Generosity  Corruption  \n",
       "0           0.000            0.087    0.000       0.093       0.059  \n",
       "1           0.582            0.181    0.106       0.312       0.061  \n",
       "2           0.537            0.255    0.085       0.191       0.036  \n",
       "3           0.000            0.289    0.000       0.089       0.005  \n",
       "4           0.000            0.126    0.000       0.122       0.010  "
      ]
     },
     "execution_count": 43,
     "metadata": {},
     "output_type": "execute_result"
    }
   ],
   "source": [
    "df_past.head()"
   ]
  },
  {
   "cell_type": "code",
   "execution_count": 44,
   "id": "472a9331",
   "metadata": {
    "ExecuteTime": {
     "end_time": "2024-04-26T01:58:43.680081Z",
     "start_time": "2024-04-26T01:58:43.670709Z"
    }
   },
   "outputs": [
    {
     "data": {
      "text/html": [
       "<div>\n",
       "<style scoped>\n",
       "    .dataframe tbody tr th:only-of-type {\n",
       "        vertical-align: middle;\n",
       "    }\n",
       "\n",
       "    .dataframe tbody tr th {\n",
       "        vertical-align: top;\n",
       "    }\n",
       "\n",
       "    .dataframe thead th {\n",
       "        text-align: right;\n",
       "    }\n",
       "</style>\n",
       "<table border=\"1\" class=\"dataframe\">\n",
       "  <thead>\n",
       "    <tr style=\"text-align: right;\">\n",
       "      <th></th>\n",
       "      <th>Country</th>\n",
       "      <th>Happiness Score</th>\n",
       "      <th>GDP</th>\n",
       "      <th>Social Support</th>\n",
       "      <th>Life Expectancy</th>\n",
       "      <th>Freedom</th>\n",
       "      <th>Generosity</th>\n",
       "      <th>Corruption</th>\n",
       "      <th>Year</th>\n",
       "      <th>Happiness Rank</th>\n",
       "      <th>Region</th>\n",
       "    </tr>\n",
       "  </thead>\n",
       "  <tbody>\n",
       "    <tr>\n",
       "      <th>0</th>\n",
       "      <td>Finland</td>\n",
       "      <td>7.741</td>\n",
       "      <td>1.844</td>\n",
       "      <td>1.572</td>\n",
       "      <td>0.695</td>\n",
       "      <td>0.859</td>\n",
       "      <td>0.142</td>\n",
       "      <td>0.546</td>\n",
       "      <td>2024</td>\n",
       "      <td>1</td>\n",
       "      <td>None</td>\n",
       "    </tr>\n",
       "    <tr>\n",
       "      <th>1</th>\n",
       "      <td>Denmark</td>\n",
       "      <td>7.583</td>\n",
       "      <td>1.908</td>\n",
       "      <td>1.520</td>\n",
       "      <td>0.699</td>\n",
       "      <td>0.823</td>\n",
       "      <td>0.204</td>\n",
       "      <td>0.548</td>\n",
       "      <td>2024</td>\n",
       "      <td>2</td>\n",
       "      <td>None</td>\n",
       "    </tr>\n",
       "    <tr>\n",
       "      <th>2</th>\n",
       "      <td>Iceland</td>\n",
       "      <td>7.525</td>\n",
       "      <td>1.881</td>\n",
       "      <td>1.617</td>\n",
       "      <td>0.718</td>\n",
       "      <td>0.819</td>\n",
       "      <td>0.258</td>\n",
       "      <td>0.182</td>\n",
       "      <td>2024</td>\n",
       "      <td>3</td>\n",
       "      <td>None</td>\n",
       "    </tr>\n",
       "    <tr>\n",
       "      <th>3</th>\n",
       "      <td>Sweden</td>\n",
       "      <td>7.344</td>\n",
       "      <td>1.878</td>\n",
       "      <td>1.501</td>\n",
       "      <td>0.724</td>\n",
       "      <td>0.838</td>\n",
       "      <td>0.221</td>\n",
       "      <td>0.524</td>\n",
       "      <td>2024</td>\n",
       "      <td>4</td>\n",
       "      <td>None</td>\n",
       "    </tr>\n",
       "    <tr>\n",
       "      <th>4</th>\n",
       "      <td>Israel</td>\n",
       "      <td>7.341</td>\n",
       "      <td>1.803</td>\n",
       "      <td>1.513</td>\n",
       "      <td>0.740</td>\n",
       "      <td>0.641</td>\n",
       "      <td>0.153</td>\n",
       "      <td>0.193</td>\n",
       "      <td>2024</td>\n",
       "      <td>5</td>\n",
       "      <td>None</td>\n",
       "    </tr>\n",
       "  </tbody>\n",
       "</table>\n",
       "</div>"
      ],
      "text/plain": [
       "   Country  Happiness Score    GDP  Social Support  Life Expectancy  Freedom  \\\n",
       "0  Finland            7.741  1.844           1.572            0.695    0.859   \n",
       "1  Denmark            7.583  1.908           1.520            0.699    0.823   \n",
       "2  Iceland            7.525  1.881           1.617            0.718    0.819   \n",
       "3   Sweden            7.344  1.878           1.501            0.724    0.838   \n",
       "4   Israel            7.341  1.803           1.513            0.740    0.641   \n",
       "\n",
       "   Generosity  Corruption  Year  Happiness Rank Region  \n",
       "0       0.142       0.546  2024               1   None  \n",
       "1       0.204       0.548  2024               2   None  \n",
       "2       0.258       0.182  2024               3   None  \n",
       "3       0.221       0.524  2024               4   None  \n",
       "4       0.153       0.193  2024               5   None  "
      ]
     },
     "execution_count": 44,
     "metadata": {},
     "output_type": "execute_result"
    }
   ],
   "source": [
    "df_present.head()"
   ]
  },
  {
   "cell_type": "markdown",
   "id": "24da1edc",
   "metadata": {},
   "source": [
    "## Reorder columns in df_present to match df_past"
   ]
  },
  {
   "cell_type": "code",
   "execution_count": 45,
   "id": "c57c1d23",
   "metadata": {
    "ExecuteTime": {
     "end_time": "2024-04-26T01:58:43.687097Z",
     "start_time": "2024-04-26T01:58:43.682090Z"
    }
   },
   "outputs": [],
   "source": [
    "# Reorder the columns\n",
    "df_present = df_present[['Country','Year','Region', 'Happiness Rank', 'Happiness Score', 'GDP', 'Social Support', 'Life Expectancy', 'Freedom', 'Generosity', 'Corruption']]"
   ]
  },
  {
   "cell_type": "markdown",
   "id": "9cc0ec34",
   "metadata": {
    "ExecuteTime": {
     "end_time": "2024-04-25T01:55:32.327232Z",
     "start_time": "2024-04-25T01:55:32.318043Z"
    }
   },
   "source": [
    "## Check df_present head"
   ]
  },
  {
   "cell_type": "code",
   "execution_count": 46,
   "id": "a0653cb0",
   "metadata": {
    "ExecuteTime": {
     "end_time": "2024-04-26T01:58:43.700962Z",
     "start_time": "2024-04-26T01:58:43.689105Z"
    }
   },
   "outputs": [
    {
     "data": {
      "text/html": [
       "<div>\n",
       "<style scoped>\n",
       "    .dataframe tbody tr th:only-of-type {\n",
       "        vertical-align: middle;\n",
       "    }\n",
       "\n",
       "    .dataframe tbody tr th {\n",
       "        vertical-align: top;\n",
       "    }\n",
       "\n",
       "    .dataframe thead th {\n",
       "        text-align: right;\n",
       "    }\n",
       "</style>\n",
       "<table border=\"1\" class=\"dataframe\">\n",
       "  <thead>\n",
       "    <tr style=\"text-align: right;\">\n",
       "      <th></th>\n",
       "      <th>Country</th>\n",
       "      <th>Year</th>\n",
       "      <th>Region</th>\n",
       "      <th>Happiness Rank</th>\n",
       "      <th>Happiness Score</th>\n",
       "      <th>GDP</th>\n",
       "      <th>Social Support</th>\n",
       "      <th>Life Expectancy</th>\n",
       "      <th>Freedom</th>\n",
       "      <th>Generosity</th>\n",
       "      <th>Corruption</th>\n",
       "    </tr>\n",
       "  </thead>\n",
       "  <tbody>\n",
       "    <tr>\n",
       "      <th>0</th>\n",
       "      <td>Finland</td>\n",
       "      <td>2024</td>\n",
       "      <td>None</td>\n",
       "      <td>1</td>\n",
       "      <td>7.741</td>\n",
       "      <td>1.844</td>\n",
       "      <td>1.572</td>\n",
       "      <td>0.695</td>\n",
       "      <td>0.859</td>\n",
       "      <td>0.142</td>\n",
       "      <td>0.546</td>\n",
       "    </tr>\n",
       "    <tr>\n",
       "      <th>1</th>\n",
       "      <td>Denmark</td>\n",
       "      <td>2024</td>\n",
       "      <td>None</td>\n",
       "      <td>2</td>\n",
       "      <td>7.583</td>\n",
       "      <td>1.908</td>\n",
       "      <td>1.520</td>\n",
       "      <td>0.699</td>\n",
       "      <td>0.823</td>\n",
       "      <td>0.204</td>\n",
       "      <td>0.548</td>\n",
       "    </tr>\n",
       "    <tr>\n",
       "      <th>2</th>\n",
       "      <td>Iceland</td>\n",
       "      <td>2024</td>\n",
       "      <td>None</td>\n",
       "      <td>3</td>\n",
       "      <td>7.525</td>\n",
       "      <td>1.881</td>\n",
       "      <td>1.617</td>\n",
       "      <td>0.718</td>\n",
       "      <td>0.819</td>\n",
       "      <td>0.258</td>\n",
       "      <td>0.182</td>\n",
       "    </tr>\n",
       "    <tr>\n",
       "      <th>3</th>\n",
       "      <td>Sweden</td>\n",
       "      <td>2024</td>\n",
       "      <td>None</td>\n",
       "      <td>4</td>\n",
       "      <td>7.344</td>\n",
       "      <td>1.878</td>\n",
       "      <td>1.501</td>\n",
       "      <td>0.724</td>\n",
       "      <td>0.838</td>\n",
       "      <td>0.221</td>\n",
       "      <td>0.524</td>\n",
       "    </tr>\n",
       "    <tr>\n",
       "      <th>4</th>\n",
       "      <td>Israel</td>\n",
       "      <td>2024</td>\n",
       "      <td>None</td>\n",
       "      <td>5</td>\n",
       "      <td>7.341</td>\n",
       "      <td>1.803</td>\n",
       "      <td>1.513</td>\n",
       "      <td>0.740</td>\n",
       "      <td>0.641</td>\n",
       "      <td>0.153</td>\n",
       "      <td>0.193</td>\n",
       "    </tr>\n",
       "  </tbody>\n",
       "</table>\n",
       "</div>"
      ],
      "text/plain": [
       "   Country  Year Region  Happiness Rank  Happiness Score    GDP  \\\n",
       "0  Finland  2024   None               1            7.741  1.844   \n",
       "1  Denmark  2024   None               2            7.583  1.908   \n",
       "2  Iceland  2024   None               3            7.525  1.881   \n",
       "3   Sweden  2024   None               4            7.344  1.878   \n",
       "4   Israel  2024   None               5            7.341  1.803   \n",
       "\n",
       "   Social Support  Life Expectancy  Freedom  Generosity  Corruption  \n",
       "0           1.572            0.695    0.859       0.142       0.546  \n",
       "1           1.520            0.699    0.823       0.204       0.548  \n",
       "2           1.617            0.718    0.819       0.258       0.182  \n",
       "3           1.501            0.724    0.838       0.221       0.524  \n",
       "4           1.513            0.740    0.641       0.153       0.193  "
      ]
     },
     "execution_count": 46,
     "metadata": {},
     "output_type": "execute_result"
    }
   ],
   "source": [
    "df_present.head()"
   ]
  },
  {
   "cell_type": "markdown",
   "id": "762b981c",
   "metadata": {},
   "source": [
    "## Create a mapping dictionary from country to region from df_past and use in df_present to populate regions"
   ]
  },
  {
   "cell_type": "code",
   "execution_count": 47,
   "id": "2b583b00",
   "metadata": {
    "ExecuteTime": {
     "end_time": "2024-04-26T01:58:43.710213Z",
     "start_time": "2024-04-26T01:58:43.703035Z"
    }
   },
   "outputs": [],
   "source": [
    "# Create a mapping dictionary from country to region using the merged DataFrame\n",
    "country_region_mapping = df_past.set_index('Country')['Region'].to_dict()\n",
    "\n",
    "# Map the regions to the countries in df_present based on the mapping dictionary\n",
    "df_present['Region'] = df_present['Country'].map(country_region_mapping)"
   ]
  },
  {
   "cell_type": "markdown",
   "id": "53b74c58",
   "metadata": {},
   "source": [
    "## Check for missing values in Regions to make sure mapping dictionary worked"
   ]
  },
  {
   "cell_type": "code",
   "execution_count": 48,
   "id": "d129038f",
   "metadata": {
    "ExecuteTime": {
     "end_time": "2024-04-26T01:58:43.718502Z",
     "start_time": "2024-04-26T01:58:43.712220Z"
    }
   },
   "outputs": [
    {
     "data": {
      "text/plain": [
       "Country            0\n",
       "Year               0\n",
       "Region             6\n",
       "Happiness Rank     0\n",
       "Happiness Score    0\n",
       "GDP                0\n",
       "Social Support     0\n",
       "Life Expectancy    0\n",
       "Freedom            0\n",
       "Generosity         0\n",
       "Corruption         0\n",
       "dtype: int64"
      ]
     },
     "execution_count": 48,
     "metadata": {},
     "output_type": "execute_result"
    }
   ],
   "source": [
    "#check for missing values in df_present - Region\n",
    "df_present.isnull().sum()"
   ]
  },
  {
   "cell_type": "markdown",
   "id": "7442efb9",
   "metadata": {},
   "source": [
    "## Filter missing rows for countries without region"
   ]
  },
  {
   "cell_type": "code",
   "execution_count": 49,
   "id": "16c9d08c",
   "metadata": {
    "ExecuteTime": {
     "end_time": "2024-04-26T01:58:43.726519Z",
     "start_time": "2024-04-26T01:58:43.719660Z"
    }
   },
   "outputs": [
    {
     "name": "stdout",
     "output_type": "stream",
     "text": [
      "                       Country  Year Region  Happiness Rank  Happiness Score  \\\n",
      "17                     Czechia  2024    NaN              18            6.822   \n",
      "30    Taiwan Province of China  2024    NaN              31            6.503   \n",
      "83             North Macedonia  2024    NaN              84            5.369   \n",
      "85   Hong Kong S.A.R. of China  2024    NaN              86            5.316   \n",
      "97                     Turkiye  2024    NaN              98            4.975   \n",
      "102         State of Palestine  2024    NaN             103            4.879   \n",
      "\n",
      "       GDP  Social Support  Life Expectancy  Freedom  Generosity  Corruption  \n",
      "17   1.783           1.511            0.638    0.787       0.177       0.068  \n",
      "30   1.842           1.346            0.650    0.649       0.068       0.202  \n",
      "83   1.475           1.277            0.569    0.580       0.194       0.015  \n",
      "85   1.909           1.184            0.857    0.485       0.147       0.402  \n",
      "97   1.702           1.175            0.631    0.202       0.068       0.115  \n",
      "102  0.000           0.000            0.000    0.000       0.000       0.000  \n"
     ]
    }
   ],
   "source": [
    "# Filter rows where the 'Region' column contains missing values\n",
    "missing_region = df_present[df_present['Region'].isnull()]\n",
    "\n",
    "# Display the DataFrame with missing values in the 'Region' column\n",
    "print(missing_region)"
   ]
  },
  {
   "cell_type": "markdown",
   "id": "1d1baead",
   "metadata": {},
   "source": [
    "## Update country names to match df_past"
   ]
  },
  {
   "cell_type": "code",
   "execution_count": 50,
   "id": "87100924",
   "metadata": {
    "ExecuteTime": {
     "end_time": "2024-04-26T01:58:43.731831Z",
     "start_time": "2024-04-26T01:58:43.727524Z"
    }
   },
   "outputs": [],
   "source": [
    "replace_values = {'Czechia': 'Czech Republic',\n",
    "                  'Taiwan Province of China': 'Taiwan',\n",
    "                  'North Macedonia': 'Macedonia',\n",
    "                  'Hong Kong S.A.R. of China': 'Hong Kong',\n",
    "                  'Turkiye': 'Turkey',\n",
    "                  'State of Palestine': 'Palestinian Territories'\n",
    "                 }\n",
    "\n",
    "# Replace values in the 'Country' column\n",
    "df_present['Country'] = df_present['Country'].replace(replace_values)"
   ]
  },
  {
   "cell_type": "markdown",
   "id": "bf60de84",
   "metadata": {},
   "source": [
    "## Remap the regions to the updated countries"
   ]
  },
  {
   "cell_type": "code",
   "execution_count": 51,
   "id": "be39f049",
   "metadata": {
    "ExecuteTime": {
     "end_time": "2024-04-26T01:58:43.736632Z",
     "start_time": "2024-04-26T01:58:43.732837Z"
    }
   },
   "outputs": [],
   "source": [
    "# Re-Map the regions to the countries in df_present based on the mapping dictionary\n",
    "df_present['Region'] = df_present['Country'].map(country_region_mapping)"
   ]
  },
  {
   "cell_type": "markdown",
   "id": "c32a003a",
   "metadata": {},
   "source": [
    "## Recheck for missing Regions in df_present"
   ]
  },
  {
   "cell_type": "code",
   "execution_count": 52,
   "id": "fdf81397",
   "metadata": {
    "ExecuteTime": {
     "end_time": "2024-04-26T01:58:43.745047Z",
     "start_time": "2024-04-26T01:58:43.738476Z"
    }
   },
   "outputs": [
    {
     "data": {
      "text/plain": [
       "Country            0\n",
       "Year               0\n",
       "Region             0\n",
       "Happiness Rank     0\n",
       "Happiness Score    0\n",
       "GDP                0\n",
       "Social Support     0\n",
       "Life Expectancy    0\n",
       "Freedom            0\n",
       "Generosity         0\n",
       "Corruption         0\n",
       "dtype: int64"
      ]
     },
     "execution_count": 52,
     "metadata": {},
     "output_type": "execute_result"
    }
   ],
   "source": [
    "#recheck for missing values in df_present - Region\n",
    "df_present.isnull().sum()"
   ]
  },
  {
   "cell_type": "markdown",
   "id": "80babdb4",
   "metadata": {},
   "source": [
    "# 04 Merge df_past and df_present as df_all"
   ]
  },
  {
   "cell_type": "code",
   "execution_count": 53,
   "id": "cbe4eebf",
   "metadata": {
    "ExecuteTime": {
     "end_time": "2024-04-26T01:58:43.750679Z",
     "start_time": "2024-04-26T01:58:43.747099Z"
    }
   },
   "outputs": [],
   "source": [
    "# Merge/concatenate the two DataFrames along axis 0 (rows)\n",
    "df_all = pd.concat([df_past, df_present], ignore_index=True)"
   ]
  },
  {
   "cell_type": "markdown",
   "id": "5fad10eb",
   "metadata": {},
   "source": [
    "## Check head and info on merged dataframe"
   ]
  },
  {
   "cell_type": "code",
   "execution_count": 54,
   "id": "aabbd220",
   "metadata": {
    "ExecuteTime": {
     "end_time": "2024-04-26T01:58:43.767552Z",
     "start_time": "2024-04-26T01:58:43.752132Z"
    }
   },
   "outputs": [
    {
     "data": {
      "text/html": [
       "<div>\n",
       "<style scoped>\n",
       "    .dataframe tbody tr th:only-of-type {\n",
       "        vertical-align: middle;\n",
       "    }\n",
       "\n",
       "    .dataframe tbody tr th {\n",
       "        vertical-align: top;\n",
       "    }\n",
       "\n",
       "    .dataframe thead th {\n",
       "        text-align: right;\n",
       "    }\n",
       "</style>\n",
       "<table border=\"1\" class=\"dataframe\">\n",
       "  <thead>\n",
       "    <tr style=\"text-align: right;\">\n",
       "      <th></th>\n",
       "      <th>Country</th>\n",
       "      <th>Year</th>\n",
       "      <th>Region</th>\n",
       "      <th>Happiness Rank</th>\n",
       "      <th>Happiness Score</th>\n",
       "      <th>GDP</th>\n",
       "      <th>Social Support</th>\n",
       "      <th>Life Expectancy</th>\n",
       "      <th>Freedom</th>\n",
       "      <th>Generosity</th>\n",
       "      <th>Corruption</th>\n",
       "    </tr>\n",
       "  </thead>\n",
       "  <tbody>\n",
       "    <tr>\n",
       "      <th>0</th>\n",
       "      <td>Afghanistan</td>\n",
       "      <td>2023</td>\n",
       "      <td>Southern Asia</td>\n",
       "      <td>137</td>\n",
       "      <td>1.859</td>\n",
       "      <td>0.645</td>\n",
       "      <td>0.000</td>\n",
       "      <td>0.087</td>\n",
       "      <td>0.000</td>\n",
       "      <td>0.093</td>\n",
       "      <td>0.059</td>\n",
       "    </tr>\n",
       "    <tr>\n",
       "      <th>1</th>\n",
       "      <td>Afghanistan</td>\n",
       "      <td>2017</td>\n",
       "      <td>Southern Asia</td>\n",
       "      <td>141</td>\n",
       "      <td>3.794</td>\n",
       "      <td>0.401</td>\n",
       "      <td>0.582</td>\n",
       "      <td>0.181</td>\n",
       "      <td>0.106</td>\n",
       "      <td>0.312</td>\n",
       "      <td>0.061</td>\n",
       "    </tr>\n",
       "    <tr>\n",
       "      <th>2</th>\n",
       "      <td>Afghanistan</td>\n",
       "      <td>2018</td>\n",
       "      <td>Southern Asia</td>\n",
       "      <td>145</td>\n",
       "      <td>3.632</td>\n",
       "      <td>0.332</td>\n",
       "      <td>0.537</td>\n",
       "      <td>0.255</td>\n",
       "      <td>0.085</td>\n",
       "      <td>0.191</td>\n",
       "      <td>0.036</td>\n",
       "    </tr>\n",
       "    <tr>\n",
       "      <th>3</th>\n",
       "      <td>Afghanistan</td>\n",
       "      <td>2022</td>\n",
       "      <td>Southern Asia</td>\n",
       "      <td>146</td>\n",
       "      <td>2.404</td>\n",
       "      <td>0.758</td>\n",
       "      <td>0.000</td>\n",
       "      <td>0.289</td>\n",
       "      <td>0.000</td>\n",
       "      <td>0.089</td>\n",
       "      <td>0.005</td>\n",
       "    </tr>\n",
       "    <tr>\n",
       "      <th>4</th>\n",
       "      <td>Afghanistan</td>\n",
       "      <td>2021</td>\n",
       "      <td>Southern Asia</td>\n",
       "      <td>149</td>\n",
       "      <td>2.523</td>\n",
       "      <td>0.370</td>\n",
       "      <td>0.000</td>\n",
       "      <td>0.126</td>\n",
       "      <td>0.000</td>\n",
       "      <td>0.122</td>\n",
       "      <td>0.010</td>\n",
       "    </tr>\n",
       "  </tbody>\n",
       "</table>\n",
       "</div>"
      ],
      "text/plain": [
       "       Country  Year         Region  Happiness Rank  Happiness Score    GDP  \\\n",
       "0  Afghanistan  2023  Southern Asia             137            1.859  0.645   \n",
       "1  Afghanistan  2017  Southern Asia             141            3.794  0.401   \n",
       "2  Afghanistan  2018  Southern Asia             145            3.632  0.332   \n",
       "3  Afghanistan  2022  Southern Asia             146            2.404  0.758   \n",
       "4  Afghanistan  2021  Southern Asia             149            2.523  0.370   \n",
       "\n",
       "   Social Support  Life Expectancy  Freedom  Generosity  Corruption  \n",
       "0           0.000            0.087    0.000       0.093       0.059  \n",
       "1           0.582            0.181    0.106       0.312       0.061  \n",
       "2           0.537            0.255    0.085       0.191       0.036  \n",
       "3           0.000            0.289    0.000       0.089       0.005  \n",
       "4           0.000            0.126    0.000       0.122       0.010  "
      ]
     },
     "execution_count": 54,
     "metadata": {},
     "output_type": "execute_result"
    }
   ],
   "source": [
    "df_all.head()"
   ]
  },
  {
   "cell_type": "code",
   "execution_count": 55,
   "id": "8d1e7f6b",
   "metadata": {
    "ExecuteTime": {
     "end_time": "2024-04-26T01:58:43.777505Z",
     "start_time": "2024-04-26T01:58:43.768638Z"
    }
   },
   "outputs": [
    {
     "name": "stdout",
     "output_type": "stream",
     "text": [
      "<class 'pandas.core.frame.DataFrame'>\n",
      "RangeIndex: 1505 entries, 0 to 1504\n",
      "Data columns (total 11 columns):\n",
      " #   Column           Non-Null Count  Dtype  \n",
      "---  ------           --------------  -----  \n",
      " 0   Country          1505 non-null   object \n",
      " 1   Year             1505 non-null   int64  \n",
      " 2   Region           1505 non-null   object \n",
      " 3   Happiness Rank   1505 non-null   int64  \n",
      " 4   Happiness Score  1505 non-null   float64\n",
      " 5   GDP              1505 non-null   float64\n",
      " 6   Social Support   1505 non-null   float64\n",
      " 7   Life Expectancy  1505 non-null   float64\n",
      " 8   Freedom          1505 non-null   float64\n",
      " 9   Generosity       1505 non-null   float64\n",
      " 10  Corruption       1505 non-null   float64\n",
      "dtypes: float64(7), int64(2), object(2)\n",
      "memory usage: 129.5+ KB\n"
     ]
    }
   ],
   "source": [
    "df_all.info()"
   ]
  },
  {
   "cell_type": "markdown",
   "id": "fa6255fe",
   "metadata": {},
   "source": [
    "## Descriptive Statistics for merged dataframe"
   ]
  },
  {
   "cell_type": "code",
   "execution_count": 56,
   "id": "3df8232d",
   "metadata": {
    "ExecuteTime": {
     "end_time": "2024-04-26T01:58:43.807814Z",
     "start_time": "2024-04-26T01:58:43.781051Z"
    }
   },
   "outputs": [
    {
     "data": {
      "text/html": [
       "<div>\n",
       "<style scoped>\n",
       "    .dataframe tbody tr th:only-of-type {\n",
       "        vertical-align: middle;\n",
       "    }\n",
       "\n",
       "    .dataframe tbody tr th {\n",
       "        vertical-align: top;\n",
       "    }\n",
       "\n",
       "    .dataframe thead th {\n",
       "        text-align: right;\n",
       "    }\n",
       "</style>\n",
       "<table border=\"1\" class=\"dataframe\">\n",
       "  <thead>\n",
       "    <tr style=\"text-align: right;\">\n",
       "      <th></th>\n",
       "      <th>Year</th>\n",
       "      <th>Happiness Rank</th>\n",
       "      <th>Happiness Score</th>\n",
       "      <th>GDP</th>\n",
       "      <th>Social Support</th>\n",
       "      <th>Life Expectancy</th>\n",
       "      <th>Freedom</th>\n",
       "      <th>Generosity</th>\n",
       "      <th>Corruption</th>\n",
       "    </tr>\n",
       "  </thead>\n",
       "  <tbody>\n",
       "    <tr>\n",
       "      <th>count</th>\n",
       "      <td>1505.000000</td>\n",
       "      <td>1505.000000</td>\n",
       "      <td>1505.000000</td>\n",
       "      <td>1505.000000</td>\n",
       "      <td>1505.000000</td>\n",
       "      <td>1505.000000</td>\n",
       "      <td>1505.000000</td>\n",
       "      <td>1505.000000</td>\n",
       "      <td>1505.000000</td>\n",
       "    </tr>\n",
       "    <tr>\n",
       "      <th>mean</th>\n",
       "      <td>2019.387375</td>\n",
       "      <td>76.159468</td>\n",
       "      <td>5.448823</td>\n",
       "      <td>1.049550</td>\n",
       "      <td>1.051433</td>\n",
       "      <td>0.576066</td>\n",
       "      <td>0.466015</td>\n",
       "      <td>0.191328</td>\n",
       "      <td>0.133985</td>\n",
       "    </tr>\n",
       "    <tr>\n",
       "      <th>std</th>\n",
       "      <td>2.860818</td>\n",
       "      <td>43.867863</td>\n",
       "      <td>1.123676</td>\n",
       "      <td>0.464197</td>\n",
       "      <td>0.335578</td>\n",
       "      <td>0.240741</td>\n",
       "      <td>0.165712</td>\n",
       "      <td>0.111533</td>\n",
       "      <td>0.114189</td>\n",
       "    </tr>\n",
       "    <tr>\n",
       "      <th>min</th>\n",
       "      <td>2015.000000</td>\n",
       "      <td>1.000000</td>\n",
       "      <td>1.721000</td>\n",
       "      <td>0.000000</td>\n",
       "      <td>0.000000</td>\n",
       "      <td>0.000000</td>\n",
       "      <td>0.000000</td>\n",
       "      <td>0.000000</td>\n",
       "      <td>0.000000</td>\n",
       "    </tr>\n",
       "    <tr>\n",
       "      <th>25%</th>\n",
       "      <td>2017.000000</td>\n",
       "      <td>38.000000</td>\n",
       "      <td>4.603000</td>\n",
       "      <td>0.737000</td>\n",
       "      <td>0.841000</td>\n",
       "      <td>0.401000</td>\n",
       "      <td>0.367000</td>\n",
       "      <td>0.112000</td>\n",
       "      <td>0.057000</td>\n",
       "    </tr>\n",
       "    <tr>\n",
       "      <th>50%</th>\n",
       "      <td>2019.000000</td>\n",
       "      <td>76.000000</td>\n",
       "      <td>5.472000</td>\n",
       "      <td>1.069000</td>\n",
       "      <td>1.092000</td>\n",
       "      <td>0.600000</td>\n",
       "      <td>0.482000</td>\n",
       "      <td>0.177000</td>\n",
       "      <td>0.099000</td>\n",
       "    </tr>\n",
       "    <tr>\n",
       "      <th>75%</th>\n",
       "      <td>2022.000000</td>\n",
       "      <td>114.000000</td>\n",
       "      <td>6.269000</td>\n",
       "      <td>1.373000</td>\n",
       "      <td>1.318000</td>\n",
       "      <td>0.760000</td>\n",
       "      <td>0.585000</td>\n",
       "      <td>0.248000</td>\n",
       "      <td>0.172000</td>\n",
       "    </tr>\n",
       "    <tr>\n",
       "      <th>max</th>\n",
       "      <td>2024.000000</td>\n",
       "      <td>158.000000</td>\n",
       "      <td>7.842000</td>\n",
       "      <td>2.209000</td>\n",
       "      <td>1.644000</td>\n",
       "      <td>1.141000</td>\n",
       "      <td>0.863000</td>\n",
       "      <td>0.838000</td>\n",
       "      <td>0.587000</td>\n",
       "    </tr>\n",
       "  </tbody>\n",
       "</table>\n",
       "</div>"
      ],
      "text/plain": [
       "              Year  Happiness Rank  Happiness Score          GDP  \\\n",
       "count  1505.000000     1505.000000      1505.000000  1505.000000   \n",
       "mean   2019.387375       76.159468         5.448823     1.049550   \n",
       "std       2.860818       43.867863         1.123676     0.464197   \n",
       "min    2015.000000        1.000000         1.721000     0.000000   \n",
       "25%    2017.000000       38.000000         4.603000     0.737000   \n",
       "50%    2019.000000       76.000000         5.472000     1.069000   \n",
       "75%    2022.000000      114.000000         6.269000     1.373000   \n",
       "max    2024.000000      158.000000         7.842000     2.209000   \n",
       "\n",
       "       Social Support  Life Expectancy      Freedom   Generosity   Corruption  \n",
       "count     1505.000000      1505.000000  1505.000000  1505.000000  1505.000000  \n",
       "mean         1.051433         0.576066     0.466015     0.191328     0.133985  \n",
       "std          0.335578         0.240741     0.165712     0.111533     0.114189  \n",
       "min          0.000000         0.000000     0.000000     0.000000     0.000000  \n",
       "25%          0.841000         0.401000     0.367000     0.112000     0.057000  \n",
       "50%          1.092000         0.600000     0.482000     0.177000     0.099000  \n",
       "75%          1.318000         0.760000     0.585000     0.248000     0.172000  \n",
       "max          1.644000         1.141000     0.863000     0.838000     0.587000  "
      ]
     },
     "execution_count": 56,
     "metadata": {},
     "output_type": "execute_result"
    }
   ],
   "source": [
    "df_all.describe()"
   ]
  },
  {
   "cell_type": "markdown",
   "id": "7f93f855",
   "metadata": {},
   "source": [
    "## Get the median for columns in df_all"
   ]
  },
  {
   "cell_type": "code",
   "execution_count": 57,
   "id": "0ccb7faf",
   "metadata": {
    "ExecuteTime": {
     "end_time": "2024-04-26T01:58:43.819223Z",
     "start_time": "2024-04-26T01:58:43.807814Z"
    }
   },
   "outputs": [
    {
     "name": "stdout",
     "output_type": "stream",
     "text": [
      "Year               2019.000\n",
      "Happiness Rank       76.000\n",
      "Happiness Score       5.472\n",
      "GDP                   1.069\n",
      "Social Support        1.092\n",
      "Life Expectancy       0.600\n",
      "Freedom               0.482\n",
      "Generosity            0.177\n",
      "Corruption            0.099\n",
      "dtype: float64\n"
     ]
    }
   ],
   "source": [
    "# Calculate the median of specific columns in the DataFrame\n",
    "median_values = df_all[['Year', 'Happiness Rank', 'Happiness Score', 'GDP', 'Social Support', 'Life Expectancy', 'Freedom', 'Generosity', 'Corruption']].median()\n",
    "\n",
    "# Display the median values\n",
    "print(median_values)"
   ]
  },
  {
   "cell_type": "markdown",
   "id": "176d08ae",
   "metadata": {},
   "source": [
    "## Get the mode for all columns in df_all"
   ]
  },
  {
   "cell_type": "code",
   "execution_count": 58,
   "id": "387af92e",
   "metadata": {
    "ExecuteTime": {
     "end_time": "2024-04-26T01:58:43.838646Z",
     "start_time": "2024-04-26T01:58:43.819223Z"
    }
   },
   "outputs": [
    {
     "name": "stdout",
     "output_type": "stream",
     "text": [
      "     Year  Happiness Rank  Happiness Score  GDP  Social Support  \\\n",
      "0  2015.0            34.0            2.905  0.0             0.0   \n",
      "1     NaN            57.0            4.308  NaN             NaN   \n",
      "2     NaN            82.0            5.890  NaN             NaN   \n",
      "3     NaN             NaN            6.125  NaN             NaN   \n",
      "4     NaN             NaN            6.455  NaN             NaN   \n",
      "\n",
      "   Life Expectancy  Freedom  Generosity  Corruption  \n",
      "0              0.0      0.0       0.000       0.064  \n",
      "1              NaN      NaN       0.153         NaN  \n",
      "2              NaN      NaN         NaN         NaN  \n",
      "3              NaN      NaN         NaN         NaN  \n",
      "4              NaN      NaN         NaN         NaN  \n"
     ]
    }
   ],
   "source": [
    "# Calculate the mode of specific columns in the DataFrame\n",
    "mode_values = df_all[['Year', 'Happiness Rank', 'Happiness Score', 'GDP', 'Social Support', 'Life Expectancy', 'Freedom', 'Generosity', 'Corruption']].mode()\n",
    "\n",
    "# Display the mode values\n",
    "print(mode_values)"
   ]
  },
  {
   "cell_type": "markdown",
   "id": "a4daae64",
   "metadata": {
    "ExecuteTime": {
     "end_time": "2024-04-25T01:56:48.633747Z",
     "start_time": "2024-04-25T01:56:48.627672Z"
    }
   },
   "source": [
    "## Check for missing values in df_all"
   ]
  },
  {
   "cell_type": "code",
   "execution_count": 59,
   "id": "fd39843a",
   "metadata": {
    "ExecuteTime": {
     "end_time": "2024-04-26T01:58:43.847960Z",
     "start_time": "2024-04-26T01:58:43.839398Z"
    }
   },
   "outputs": [
    {
     "data": {
      "text/plain": [
       "Country            0\n",
       "Year               0\n",
       "Region             0\n",
       "Happiness Rank     0\n",
       "Happiness Score    0\n",
       "GDP                0\n",
       "Social Support     0\n",
       "Life Expectancy    0\n",
       "Freedom            0\n",
       "Generosity         0\n",
       "Corruption         0\n",
       "dtype: int64"
      ]
     },
     "execution_count": 59,
     "metadata": {},
     "output_type": "execute_result"
    }
   ],
   "source": [
    "#check for missing values in df_all *Region needs to be populated for 2024 data (143 countries)\n",
    "df_all.isnull().sum()"
   ]
  },
  {
   "cell_type": "markdown",
   "id": "7edf10b5",
   "metadata": {},
   "source": [
    "# 05 Export file"
   ]
  },
  {
   "cell_type": "code",
   "execution_count": 60,
   "id": "5c19c6fb",
   "metadata": {
    "ExecuteTime": {
     "end_time": "2024-04-26T01:58:43.856714Z",
     "start_time": "2024-04-26T01:58:43.847960Z"
    }
   },
   "outputs": [],
   "source": [
    "#Export the merged file in pickle format as “WHR_all.pkl”.\n",
    "df_all.to_pickle(os.path.join(path, '02 Data','Prepared Data', 'WHR_all.pkl'))"
   ]
  }
 ],
 "metadata": {
  "kernelspec": {
   "display_name": "Python 3 (ipykernel)",
   "language": "python",
   "name": "python3"
  },
  "language_info": {
   "codemirror_mode": {
    "name": "ipython",
    "version": 3
   },
   "file_extension": ".py",
   "mimetype": "text/x-python",
   "name": "python",
   "nbconvert_exporter": "python",
   "pygments_lexer": "ipython3",
   "version": "3.11.5"
  }
 },
 "nbformat": 4,
 "nbformat_minor": 5
}
